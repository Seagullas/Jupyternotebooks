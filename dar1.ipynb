{
 "cells": [
  {
   "cell_type": "code",
   "execution_count": 6,
   "metadata": {},
   "outputs": [
    {
     "name": "stdout",
     "output_type": "stream",
     "text": [
      "pavadinimasturi200sed vietu\n",
      "pavadinimasturi200sed vietu\n",
      "pavadinimasturi200sed vietu\n"
     ]
    }
   ],
   "source": [
    "class vechile():\n",
    "    def __init__(self, P, R):\n",
    "        self.P= P\n",
    "        self.R= R\n",
    "class Car(vechile):\n",
    "    def __init__(self, P, R, S):\n",
    "        super(). __init__ (P, R)\n",
    "        self.S=S\n",
    "    def getSeats(self):\n",
    "        txt= self.P + 'turi' + str(self.S) + 'sed vietu'\n",
    "        return txt\n",
    "    \n",
    "test = Car( P='pavadinimas', R=5000, S= 200)\n",
    "\n",
    "print(test.getSeats())\n",
    "\n",
    "class Train(vechile):\n",
    "    def __init__(self, P, R, S):\n",
    "        super(). __init__ (P, R)\n",
    "        self.S=S\n",
    "    def getSeats(self):\n",
    "        txt= self.P + 'turi' + str(self.S) + 'sed vietu'\n",
    "        return txt\n",
    "    \n",
    "test = Train( P='pavadinimas', R=5000, S= 200)\n",
    "\n",
    "print(test.getSeats())\n",
    "\n",
    "class Bus(vechile):\n",
    "    def __init__(self, P, R, S):\n",
    "        super(). __init__ (P, R)\n",
    "        self.S=S\n",
    "    def getSeats(self):\n",
    "        txt= self.P + 'turi' + str(self.S) + 'sed vietu'\n",
    "        return txt\n",
    "    \n",
    "test = Train( P='pavadinimas', R=5000, S= 200)\n",
    "\n",
    "print(test.getSeats())\n"
   ]
  },
  {
   "cell_type": "code",
   "execution_count": 38,
   "metadata": {},
   "outputs": [
    {
     "name": "stdout",
     "output_type": "stream",
     "text": [
      "[52.0, 11.0, 55.0, 55.0, 47.0, 71.0, 49.0, 48.0, 82.0, 24.0, 13.0, 95.0, 22.0, 95.0, 32.0, 35.0, 86.0, 90.0, 8.0, 21.0, 23.0, 92.0, 38.0, 99.0, 29.0, 93.0, 53.0, 87.0, 47.0, 38.0, 38.0, 36.0, 83.0, 79.0, 2.0, 18.0, 86.0, 78.0, 51.0, 7.0, 65.0, 9.0, 50.0, 59.0, 91.0, 39.0, 36.0, 16.0, 73.0, 54.0, 79.0, 47.0, 97.0, 0.0, 18.0, 54.0, 93.0, 79.0, 62.0, 63.0, 22.0, 49.0, 19.0, 43.0, 65.0, 0.0, 80.0, 70.0, 95.0, 58.0, 47.0, 89.0, 99.0, 94.0, 70.0, 41.0, 60.0, 18.0, 12.0, 3.0, 28.0, 50.0, 33.0, 52.0, 99.0, 41.0, 1.0, 58.0, 60.0, 5.0, 3.0, 44.0, 83.0, 51.0, 58.0, 27.0, 71.0, 96.0, 18.0, 83.0]\n",
      "[0.3666, 0.8672, 0.9966, 0.7318, 0.6703, 0.2205, 0.4725, 0.5563, 0.5348, 0.3462, 0.784, 0.348, 0.8328, 0.5423, 0.3351, 0.1916, 0.1262, 0.5941, 0.914, 0.7839, 0.7763, 0.8757, 0.4502, 0.6906, 0.8418, 0.1275, 0.1101, 0.3211, 0.5525, 0.5458, 0.8458, 0.6115, 0.5083, 0.7373, 0.9759, 0.7192, 0.0424, 0.4218, 0.8271, 0.796, 0.2074, 0.0712, 0.0602, 0.1218, 0.5095, 0.4785, 0.9309, 0.9365, 0.918, 0.8063, 0.6445, 0.2458, 0.891, 0.447, 0.4852, 0.2035, 0.8647, 0.0794, 0.8848, 0.632, 0.2339, 0.5989, 0.3103, 0.6658, 0.2537, 0.141, 0.034, 0.845, 0.2386, 0.9328, 0.8425, 0.4205, 0.6455, 0.4627, 0.3674, 0.0327, 0.1313, 0.6409, 0.8725, 0.6112, 0.9838, 0.1139, 0.5738, 0.8379, 0.5597, 0.7883, 0.4241, 0.511, 0.876, 0.45, 0.0977, 0.7697, 0.5361, 0.671, 0.8126, 0.0196, 0.8812, 0.1953, 0.9794, 0.84]\n",
      "[19.0616, 9.5391, 54.8137, 40.2481, 31.5026, 15.6522, 23.1545, 26.7004, 43.8516, 8.3078, 10.1921, 33.0584, 18.3206, 51.5156, 10.722, 6.7055, 10.8526, 53.47, 7.3119, 16.4628, 17.8547, 80.5658, 17.1066, 68.37, 24.4108, 11.8609, 5.8339, 27.9361, 25.9672, 20.7417, 32.1402, 22.0154, 42.1888, 58.2501, 1.9518, 12.9463, 3.6446, 32.9034, 42.1807, 5.5719, 13.4795, 0.6406, 3.0117, 7.1866, 46.3658, 18.662, 33.5135, 14.9834, 67.0125, 43.5409, 50.9184, 11.5529, 86.4277, 0.0, 8.7331, 10.9905, 80.4135, 6.2735, 54.8547, 39.8134, 5.146, 29.3444, 5.8948, 28.6315, 16.4886, 0.0, 2.7227, 59.1502, 22.6687, 54.1016, 39.5996, 37.4252, 63.9074, 43.4957, 25.7203, 1.339, 7.8757, 11.5358, 10.4701, 1.8335, 27.5461, 5.6974, 18.9364, 43.5727, 55.4141, 32.3216, 0.4241, 29.6396, 52.5573, 2.2501, 0.293, 33.8663, 44.4997, 34.2191, 47.1291, 0.5292, 62.5665, 18.7448, 17.63, 69.716]\n",
      "51.47\n",
      "0.546122\n",
      "27.091621\n",
      "None\n",
      "(0.0, 0.0196, 0.0)\n",
      "(99.0, 0.9966, 86.4277)\n"
     ]
    }
   ],
   "source": [
    "#parašykite klasę TxtAnalyzer, kuriai kreipimosi metu galima būtų nurodyti failo pavadinimą ir stulpelių skirtuką.\n",
    "#klasė sukūrimo metu turi nuskaityti failą, stulpelius skaičių suskirstyti\n",
    "# į sąrašus ir juos priskirti atributams X, Y ir Z.\n",
    "#Realizuokite metodus, kurie grąžintų X, Y, Z sąrašų vidurkius, minimalias ir maksimalias vertes.\n",
    "# Pythone yra min, max, sum funkcijos\n",
    "\n",
    "import os\n",
    "os.getcwd()\n",
    "\n",
    "class TxtAnalyzer():\n",
    "\n",
    "    def __init__(self, pavadinimas, skirtukas):\n",
    "        self.pavadinimas= pavadinimas\n",
    "        self.skirtukas = skirtukas\n",
    "        self.x = []\n",
    "        self.y = []\n",
    "        self.z = []\n",
    "        pass\n",
    "    def TxtReader(self):\n",
    "        fname = self.pavadinimas\n",
    "        f= open(fname, mode = 'r', encoding= 'utf-8')\n",
    "\n",
    "        turinys = f.readlines()\n",
    "\n",
    "        f.close()\n",
    "        for i in turinys:\n",
    "            self.x.append(float(i.split(self.skirtukas)[0]))\n",
    "            self.y.append(float(i.split(self.skirtukas)[1]))\n",
    "            self.z.append(float(i.split(self.skirtukas)[2]))\n",
    "        print(self.x)\n",
    "        print(self.y)\n",
    "        print(self.z)\n",
    "    def getVidurkis(self):\n",
    "        vidurkisx= sum(self.x)/len(self.x)\n",
    "        vidurkisy= sum(self.y)/len(self.y)\n",
    "        vidurkisz= sum(self.z)/len(self.z)\n",
    "        print(vidurkisx)\n",
    "        print(vidurkisy)\n",
    "        print(vidurkisz)\n",
    "    def getmin(self):\n",
    "        minx= min(self.x)\n",
    "        miny= min(self.y)\n",
    "        minz= min(self.z)\n",
    "        return minx, miny, minz\n",
    "    def getmax(self):\n",
    "        maxx= max(self.x)\n",
    "        maxy= max(self.y)\n",
    "        maxz= max(self.z)\n",
    "        return maxx, maxy, maxz\n",
    "            \n",
    "test= TxtAnalyzer(pavadinimas = 'data0.txt',skirtukas= ';')\n",
    "test.TxtReader()\n",
    "print(test.getVidurkis())\n",
    "print(test.getmin())\n",
    "print(test.getmax())"
   ]
  },
  {
   "cell_type": "code",
   "execution_count": 41,
   "metadata": {},
   "outputs": [
    {
     "name": "stdout",
     "output_type": "stream",
     "text": [
      "['52;0.3666;19.0616\\n', '11;0.8672;9.5391\\n', '55;0.9966;54.8137\\n', '55;0.7318;40.2481\\n', '47;0.6703;31.5026\\n', '71;0.2205;15.6522\\n', '49;0.4725;23.1545\\n', '48;0.5563;26.7004\\n', '82;0.5348;43.8516\\n', '24;0.3462;8.3078\\n', '13;0.784;10.1921\\n', '95;0.348;33.0584\\n', '22;0.8328;18.3206\\n', '95;0.5423;51.5156\\n', '32;0.3351;10.722\\n', '35;0.1916;6.7055\\n', '86;0.1262;10.8526\\n', '90;0.5941;53.47\\n', '8;0.914;7.3119\\n', '21;0.7839;16.4628\\n', '23;0.7763;17.8547\\n', '92;0.8757;80.5658\\n', '38;0.4502;17.1066\\n', '99;0.6906;68.37\\n', '29;0.8418;24.4108\\n', '93;0.1275;11.8609\\n', '53;0.1101;5.8339\\n', '87;0.3211;27.9361\\n', '47;0.5525;25.9672\\n', '38;0.5458;20.7417\\n', '38;0.8458;32.1402\\n', '36;0.6115;22.0154\\n', '83;0.5083;42.1888\\n', '79;0.7373;58.2501\\n', '2;0.9759;1.9518\\n', '18;0.7192;12.9463\\n', '86;0.0424;3.6446\\n', '78;0.4218;32.9034\\n', '51;0.8271;42.1807\\n', '7;0.796;5.5719\\n', '65;0.2074;13.4795\\n', '9;0.0712;0.6406\\n', '50;0.0602;3.0117\\n', '59;0.1218;7.1866\\n', '91;0.5095;46.3658\\n', '39;0.4785;18.662\\n', '36;0.9309;33.5135\\n', '16;0.9365;14.9834\\n', '73;0.918;67.0125\\n', '54;0.8063;43.5409\\n', '79;0.6445;50.9184\\n', '47;0.2458;11.5529\\n', '97;0.891;86.4277\\n', '0;0.447;0.0\\n', '18;0.4852;8.7331\\n', '54;0.2035;10.9905\\n', '93;0.8647;80.4135\\n', '79;0.0794;6.2735\\n', '62;0.8848;54.8547\\n', '63;0.632;39.8134\\n', '22;0.2339;5.146\\n', '49;0.5989;29.3444\\n', '19;0.3103;5.8948\\n', '43;0.6658;28.6315\\n', '65;0.2537;16.4886\\n', '0;0.141;0.0\\n', '80;0.034;2.7227\\n', '70;0.845;59.1502\\n', '95;0.2386;22.6687\\n', '58;0.9328;54.1016\\n', '47;0.8425;39.5996\\n', '89;0.4205;37.4252\\n', '99;0.6455;63.9074\\n', '94;0.4627;43.4957\\n', '70;0.3674;25.7203\\n', '41;0.0327;1.339\\n', '60;0.1313;7.8757\\n', '18;0.6409;11.5358\\n', '12;0.8725;10.4701\\n', '3;0.6112;1.8335\\n', '28;0.9838;27.5461\\n', '50;0.1139;5.6974\\n', '33;0.5738;18.9364\\n', '52;0.8379;43.5727\\n', '99;0.5597;55.4141\\n', '41;0.7883;32.3216\\n', '1;0.4241;0.4241\\n', '58;0.511;29.6396\\n', '60;0.876;52.5573\\n', '5;0.45;2.2501\\n', '3;0.0977;0.293\\n', '44;0.7697;33.8663\\n', '83;0.5361;44.4997\\n', '51;0.671;34.2191\\n', '58;0.8126;47.1291\\n', '27;0.0196;0.5292\\n', '71;0.8812;62.5665\\n', '96;0.1953;18.7448\\n', '18;0.9794;17.63\\n', '83;0.84;69.716']\n",
      "[52.0, 11.0, 55.0, 55.0, 47.0, 71.0, 49.0, 48.0, 82.0, 24.0, 13.0, 95.0, 22.0, 95.0, 32.0, 35.0, 86.0, 90.0, 8.0, 21.0, 23.0, 92.0, 38.0, 99.0, 29.0, 93.0, 53.0, 87.0, 47.0, 38.0, 38.0, 36.0, 83.0, 79.0, 2.0, 18.0, 86.0, 78.0, 51.0, 7.0, 65.0, 9.0, 50.0, 59.0, 91.0, 39.0, 36.0, 16.0, 73.0, 54.0, 79.0, 47.0, 97.0, 0.0, 18.0, 54.0, 93.0, 79.0, 62.0, 63.0, 22.0, 49.0, 19.0, 43.0, 65.0, 0.0, 80.0, 70.0, 95.0, 58.0, 47.0, 89.0, 99.0, 94.0, 70.0, 41.0, 60.0, 18.0, 12.0, 3.0, 28.0, 50.0, 33.0, 52.0, 99.0, 41.0, 1.0, 58.0, 60.0, 5.0, 3.0, 44.0, 83.0, 51.0, 58.0, 27.0, 71.0, 96.0, 18.0, 83.0]\n",
      "[0.3666, 0.8672, 0.9966, 0.7318, 0.6703, 0.2205, 0.4725, 0.5563, 0.5348, 0.3462, 0.784, 0.348, 0.8328, 0.5423, 0.3351, 0.1916, 0.1262, 0.5941, 0.914, 0.7839, 0.7763, 0.8757, 0.4502, 0.6906, 0.8418, 0.1275, 0.1101, 0.3211, 0.5525, 0.5458, 0.8458, 0.6115, 0.5083, 0.7373, 0.9759, 0.7192, 0.0424, 0.4218, 0.8271, 0.796, 0.2074, 0.0712, 0.0602, 0.1218, 0.5095, 0.4785, 0.9309, 0.9365, 0.918, 0.8063, 0.6445, 0.2458, 0.891, 0.447, 0.4852, 0.2035, 0.8647, 0.0794, 0.8848, 0.632, 0.2339, 0.5989, 0.3103, 0.6658, 0.2537, 0.141, 0.034, 0.845, 0.2386, 0.9328, 0.8425, 0.4205, 0.6455, 0.4627, 0.3674, 0.0327, 0.1313, 0.6409, 0.8725, 0.6112, 0.9838, 0.1139, 0.5738, 0.8379, 0.5597, 0.7883, 0.4241, 0.511, 0.876, 0.45, 0.0977, 0.7697, 0.5361, 0.671, 0.8126, 0.0196, 0.8812, 0.1953, 0.9794, 0.84]\n",
      "[19.0616, 9.5391, 54.8137, 40.2481, 31.5026, 15.6522, 23.1545, 26.7004, 43.8516, 8.3078, 10.1921, 33.0584, 18.3206, 51.5156, 10.722, 6.7055, 10.8526, 53.47, 7.3119, 16.4628, 17.8547, 80.5658, 17.1066, 68.37, 24.4108, 11.8609, 5.8339, 27.9361, 25.9672, 20.7417, 32.1402, 22.0154, 42.1888, 58.2501, 1.9518, 12.9463, 3.6446, 32.9034, 42.1807, 5.5719, 13.4795, 0.6406, 3.0117, 7.1866, 46.3658, 18.662, 33.5135, 14.9834, 67.0125, 43.5409, 50.9184, 11.5529, 86.4277, 0.0, 8.7331, 10.9905, 80.4135, 6.2735, 54.8547, 39.8134, 5.146, 29.3444, 5.8948, 28.6315, 16.4886, 0.0, 2.7227, 59.1502, 22.6687, 54.1016, 39.5996, 37.4252, 63.9074, 43.4957, 25.7203, 1.339, 7.8757, 11.5358, 10.4701, 1.8335, 27.5461, 5.6974, 18.9364, 43.5727, 55.4141, 32.3216, 0.4241, 29.6396, 52.5573, 2.2501, 0.293, 33.8663, 44.4997, 34.2191, 47.1291, 0.5292, 62.5665, 18.7448, 17.63, 69.716]\n",
      "(51.47, 0.546122, 27.091621)\n",
      "(0.0, 0.0196, 0.0)\n",
      "(99.0, 0.9966, 86.4277)\n"
     ]
    }
   ],
   "source": [
    "class TxtAnalyzer():\n",
    "    def __init__(self, pav, skirtukas):\n",
    "        self.pavadinimas = pav\n",
    "        self.skirt = skirtukas\n",
    "        self.x = []\n",
    "        self.y = []\n",
    "        self.z = []\n",
    "        pass\n",
    "    def TxtReader(self):\n",
    "        fname = self.pavadinimas\n",
    "        f = open(fname, mode='r', encoding='utf-8')\n",
    "        tekstas = f.readlines()\n",
    "        print(tekstas)\n",
    "        f.close()\n",
    "        for x in tekstas:\n",
    "            self.x.append(float(x.split(self.skirt)[0]))\n",
    "            self.y.append(float(x.split(self.skirt)[1]))\n",
    "            self.z.append(float(x.split(self.skirt)[2]))\n",
    "        print(self.x)\n",
    "        print(self.y)\n",
    "        print(self.z)\n",
    "    def getVidurkis(self):\n",
    "        vidurkisX = sum(self.x)/len(self.x)\n",
    "        vidurkisY = sum(self.y)/len(self.y)\n",
    "        vidurkisZ = sum(self.z)/len(self.z)\n",
    "        \n",
    "        return vidurkisX, vidurkisY, vidurkisZ\n",
    "    \n",
    "    def getMinimali(self):\n",
    "        minimaliX = min(self.x)\n",
    "        minimaliY = min(self.y)\n",
    "        minimaliZ = min(self.z)\n",
    "        return minimaliX, minimaliY, minimaliZ\n",
    "    \n",
    "    def getMax(self):\n",
    "        minimaliX = max(self.x)\n",
    "        minimaliY = max(self.y)\n",
    "        minimaliZ = max(self.z)\n",
    "        return minimaliX, minimaliY, minimaliZ\n",
    "\n",
    "\n",
    "z = TxtAnalyzer('data0.txt',';')\n",
    "z.TxtReader()\n",
    "print(z.getVidurkis())\n",
    "print(z.getMinimali())\n",
    "print(z.getMax())"
   ]
  },
  {
   "cell_type": "code",
   "execution_count": 42,
   "metadata": {},
   "outputs": [
    {
     "name": "stdout",
     "output_type": "stream",
     "text": [
      "X: \n",
      "Ave: 51.47\n",
      "Min: 0.0\n",
      "Max: 99.0\n",
      "\n",
      "Y: \n",
      "Ave: 0.546122\n",
      "Min: 0.0196\n",
      "Max: 0.9966\n",
      "\n",
      "Z: \n",
      "Ave: 27.091621\n",
      "Min: 0.0\n",
      "Max: 86.4277\n"
     ]
    }
   ],
   "source": [
    "class TxtAnalyzer:\n",
    "    def __init__(self, fileName, dell=';'):\n",
    "        self.fileName = fileName\n",
    "        self.dell = dell\n",
    "        self.X, self.Y, self.Z = self.readFile()\n",
    "    def readFile(self):\n",
    "        X, Y, Z = [], [], []\n",
    "        try:\n",
    "             with open(self.fileName, 'r') as file:\n",
    "                for line in file:\n",
    "                    values = line.strip().split(self.dell)\n",
    "                    if len(values) == 3:\n",
    "                        X.append(float(values[0]))\n",
    "                        Y.append(float(values[1]))\n",
    "                        Z.append(float(values[2]))\n",
    "        except FileNotFoundError:\n",
    "            print(\"File not found!\")\n",
    "        return X, Y, Z\n",
    "    def Ave(self, data):\n",
    "        if data:\n",
    "            return sum(data)/len(data)\n",
    "        else:\n",
    "            return None\n",
    "    def Min(self, data):\n",
    "        if data:\n",
    "            return min(data)\n",
    "        else:\n",
    "            return None\n",
    "    def Max(self, data):\n",
    "        if data:\n",
    "            return max(data)\n",
    "        else:\n",
    "            return None\n",
    "fileName = \"data0.txt\"  \n",
    "analyzer = TxtAnalyzer(fileName)\n",
    "print(\"X: \")\n",
    "print(\"Ave:\", analyzer.Ave(analyzer.X))\n",
    "print(\"Min:\", analyzer.Min(analyzer.X))\n",
    "print(\"Max:\", analyzer.Max(analyzer.X))\n",
    "print(\"\\nY: \")\n",
    "print(\"Ave:\", analyzer.Ave(analyzer.Y))\n",
    "print(\"Min:\", analyzer.Min(analyzer.Y))\n",
    "print(\"Max:\", analyzer.Max(analyzer.Y))\n",
    "print(\"\\nZ: \")\n",
    "print(\"Ave:\", analyzer.Ave(analyzer.Z))\n",
    "print(\"Min:\", analyzer.Min(analyzer.Z))\n",
    "print(\"Max:\", analyzer.Max(analyzer.Z))"
   ]
  },
  {
   "cell_type": "code",
   "execution_count": 43,
   "metadata": {},
   "outputs": [
    {
     "name": "stdout",
     "output_type": "stream",
     "text": [
      "[0.25, 1.25, 2.25, 3.25, 4.25]\n"
     ]
    }
   ],
   "source": [
    "x= [1,2,3,4,5]\n",
    "x1=[]\n",
    "for i in x:\n",
    "    x1.append(i-0.75)\n",
    "print(x1)"
   ]
  },
  {
   "cell_type": "code",
   "execution_count": 8,
   "metadata": {},
   "outputs": [
    {
     "name": "stderr",
     "output_type": "stream",
     "text": [
      "[autoreload of modulis failed: Traceback (most recent call last):\n",
      "  File \"C:\\Users\\37060\\AppData\\Local\\Packages\\PythonSoftwareFoundation.Python.3.12_qbz5n2kfra8p0\\LocalCache\\local-packages\\Python312\\site-packages\\IPython\\extensions\\autoreload.py\", line 276, in check\n",
      "    superreload(m, reload, self.old_objects)\n",
      "  File \"C:\\Users\\37060\\AppData\\Local\\Packages\\PythonSoftwareFoundation.Python.3.12_qbz5n2kfra8p0\\LocalCache\\local-packages\\Python312\\site-packages\\IPython\\extensions\\autoreload.py\", line 475, in superreload\n",
      "    module = reload(module)\n",
      "             ^^^^^^^^^^^^^^\n",
      "  File \"C:\\Program Files\\WindowsApps\\PythonSoftwareFoundation.Python.3.12_3.12.752.0_x64__qbz5n2kfra8p0\\Lib\\importlib\\__init__.py\", line 131, in reload\n",
      "    _bootstrap._exec(spec, module)\n",
      "  File \"<frozen importlib._bootstrap>\", line 866, in _exec\n",
      "  File \"<frozen importlib._bootstrap_external>\", line 991, in exec_module\n",
      "  File \"<frozen importlib._bootstrap_external>\", line 1129, in get_code\n",
      "  File \"<frozen importlib._bootstrap_external>\", line 1059, in source_to_code\n",
      "  File \"<frozen importlib._bootstrap>\", line 488, in _call_with_frames_removed\n",
      "  File \"d:\\Git\\Jupyternotebooks\\modulis.py\", line 75\n",
      "    \n",
      "    ^\n",
      "IndentationError: expected an indented block after function definition on line 74\n",
      "]\n"
     ]
    }
   ],
   "source": [
    "import numpy as np"
   ]
  },
  {
   "cell_type": "code",
   "execution_count": 45,
   "metadata": {},
   "outputs": [
    {
     "name": "stdout",
     "output_type": "stream",
     "text": [
      "[0 1 2 3 4 5 6 7 8 9]\n",
      "<class 'numpy.ndarray'>\n"
     ]
    }
   ],
   "source": [
    "# array\n",
    "x = np.arange(0,10)\n",
    "print(x)\n",
    "print(type(x))"
   ]
  },
  {
   "cell_type": "code",
   "execution_count": 46,
   "metadata": {},
   "outputs": [
    {
     "name": "stdout",
     "output_type": "stream",
     "text": [
      "[-0.75  0.25  1.25  2.25  3.25  4.25  5.25  6.25  7.25  8.25]\n"
     ]
    }
   ],
   "source": [
    "y= x- 0.75\n",
    "print(y)"
   ]
  },
  {
   "cell_type": "code",
   "execution_count": null,
   "metadata": {},
   "outputs": [],
   "source": [
    "np.average()\n",
    "np.min()\n",
    "np.mean()\n",
    "np.median()"
   ]
  },
  {
   "cell_type": "code",
   "execution_count": 47,
   "metadata": {},
   "outputs": [
    {
     "name": "stdout",
     "output_type": "stream",
     "text": [
      "[1, 2, 3, 4, 5, 6, 7, 8, 9, 10]\n"
     ]
    }
   ],
   "source": [
    "a_list=[i for i in range(1,11)]\n",
    "print(a_list)"
   ]
  },
  {
   "cell_type": "code",
   "execution_count": 48,
   "metadata": {},
   "outputs": [
    {
     "name": "stdout",
     "output_type": "stream",
     "text": [
      "[ 1.75  2.75  3.75  4.75  5.75  6.75  7.75  8.75  9.75 10.75]\n"
     ]
    }
   ],
   "source": [
    "a_array=np.asarray(a_list)\n",
    "print(a_array+0.75)"
   ]
  },
  {
   "cell_type": "code",
   "execution_count": 51,
   "metadata": {},
   "outputs": [
    {
     "name": "stdout",
     "output_type": "stream",
     "text": [
      "[5 7 9]\n",
      "[ 4 10 18]\n"
     ]
    }
   ],
   "source": [
    "x=[1,2,3]\n",
    "y=[4,5,6]\n",
    "x_np=np.asarray(x)\n",
    "y_np=np.asarray(y)\n",
    "print(x_np+y_np)\n",
    "c=x_np*y_np\n",
    "print(c)"
   ]
  },
  {
   "cell_type": "code",
   "execution_count": 52,
   "metadata": {},
   "outputs": [
    {
     "data": {
      "text/plain": [
       "6"
      ]
     },
     "execution_count": 52,
     "metadata": {},
     "output_type": "execute_result"
    }
   ],
   "source": [
    "np.min(x)\n",
    "np.max(y_np)"
   ]
  },
  {
   "cell_type": "code",
   "execution_count": 55,
   "metadata": {},
   "outputs": [
    {
     "name": "stdout",
     "output_type": "stream",
     "text": [
      "[3 0 1 2 0 5 3 5 6 1 6 0 1 0 7 4 5 1 6 4 7 2 8 1 1 4 1 9 5 4 3 6 5 6 5 1 4\n",
      " 5 4 5 9 3 2 1 7 2 6 1 3 8 1 3 5 7 7 5 7 8 2 7 3 6 7 7 0 1 4 4 0 0 6 0 1 5\n",
      " 2 5 0 2 9 4 3 5 8 6 8 4 2 8 9 9 1 7 1 6 3 3 3 4 4 1]\n"
     ]
    }
   ],
   "source": [
    "atsitiktinis=np.random.randint(0,10,100) #3 sk- kiek element7 bus\n",
    "print(atsitiktinis)"
   ]
  },
  {
   "cell_type": "code",
   "execution_count": 58,
   "metadata": {},
   "outputs": [
    {
     "name": "stdout",
     "output_type": "stream",
     "text": [
      "[0.30456685 0.94904635 0.42272687 0.63618332 0.08864201 0.9397973\n",
      " 0.36769308 0.63537257 0.95359881 0.54944597 0.33035747 0.23130317\n",
      " 0.45745138 0.99929705 0.0812918  0.8678333  0.34999191 0.2710028\n",
      " 0.04679577 0.34437717 0.25837885 0.21045063 0.39433842 0.05945312\n",
      " 0.37984525 0.87534435 0.38135282 0.72580144 0.80276445 0.88189344\n",
      " 0.16693941 0.27829293 0.46061294 0.20290642 0.95533251 0.81253919\n",
      " 0.44917089 0.97865832 0.88695908 0.25608531 0.97627784 0.51604349\n",
      " 0.54963543 0.94597339 0.63337211 0.09085295 0.08155328 0.32472673\n",
      " 0.93766714 0.00462202 0.703303   0.7191885  0.16768424 0.27049747\n",
      " 0.22850349 0.41028674 0.32175908 0.88164538 0.65148905 0.02816449\n",
      " 0.714129   0.57473234 0.78302162 0.23117429 0.15244538 0.91403389\n",
      " 0.95862612 0.03625108 0.82061806 0.07789065 0.99685831 0.18035029\n",
      " 0.66268641 0.01378893 0.89545572 0.73279577 0.48959414 0.32530833\n",
      " 0.9842269  0.82692444 0.06733167 0.79015408 0.97535988 0.63409283\n",
      " 0.61356797 0.74464928 0.24822104 0.34624878 0.88942967 0.01416303\n",
      " 0.95593329 0.77551664 0.94248898 0.00731796 0.90076779 0.09185283\n",
      " 0.45413113 0.19563407 0.43876334 0.70099455]\n"
     ]
    }
   ],
   "source": [
    "atsitiktinis_float=np.random.rand(100) #griežtai ribos nuuo 0 iki 1\n",
    "print(atsitiktinis_float)"
   ]
  },
  {
   "cell_type": "code",
   "execution_count": 81,
   "metadata": {},
   "outputs": [
    {
     "name": "stdout",
     "output_type": "stream",
     "text": [
      "5.42\n",
      "5.453933659529201\n",
      "6.0 1 9\n"
     ]
    }
   ],
   "source": [
    "xas= np.random.randint(1,10,100) #visada generuojami skiringi sk ,tod4l ir ats skiraisi\n",
    "svoriai = np.random.rand(100)\n",
    "#mean ir average\n",
    "vidurkis= np.mean(xas)\n",
    "print(vidurkis)\n",
    "sv_vid=np.average(xas,weights=svoriai)# weight= svertinis koeficientas\n",
    "print(sv_vid)\n",
    "#median()\n",
    "medx= np.median(xas)\n",
    "print(medx, np.min(xas), np.max(xas))\n"
   ]
  },
  {
   "cell_type": "code",
   "execution_count": 84,
   "metadata": {},
   "outputs": [
    {
     "name": "stdout",
     "output_type": "stream",
     "text": [
      "[ 1.  2.  3.  4.  5.  6.  7.  8.  9. 10.]\n"
     ]
    }
   ],
   "source": [
    "l= np.linspace(1,10,10)\n",
    "print(l)"
   ]
  },
  {
   "cell_type": "code",
   "execution_count": 88,
   "metadata": {},
   "outputs": [
    {
     "name": "stdout",
     "output_type": "stream",
     "text": [
      "0\n",
      "4.5\n",
      "9\n"
     ]
    }
   ],
   "source": [
    "#asaray, arange, min, max, mean, average, median\n",
    "n_np=np.arange(0,10)\n",
    "#kaip metodai\n",
    "minn=n_np.min()\n",
    "print(minn)\n",
    "print(n_np.mean()) #Mean - aritmetinis vidurkis\n",
    "print(n_np.max())"
   ]
  },
  {
   "cell_type": "code",
   "execution_count": 2,
   "metadata": {},
   "outputs": [],
   "source": [
    "%load_ext autoreload"
   ]
  },
  {
   "cell_type": "code",
   "execution_count": 3,
   "metadata": {},
   "outputs": [],
   "source": [
    "%autoreload 2"
   ]
  },
  {
   "cell_type": "code",
   "execution_count": 4,
   "metadata": {},
   "outputs": [
    {
     "name": "stdout",
     "output_type": "stream",
     "text": [
      "pavadinimasturi 200 sed vietu\n",
      "pavadinimasturi 200 sed vietu\n",
      "pavadinimasturi 200 sed vietu\n"
     ]
    }
   ],
   "source": [
    "import modulis\n"
   ]
  },
  {
   "cell_type": "code",
   "execution_count": 5,
   "metadata": {},
   "outputs": [
    {
     "name": "stdout",
     "output_type": "stream",
     "text": [
      "7\n"
     ]
    }
   ],
   "source": [
    "print(modulis.A)"
   ]
  },
  {
   "cell_type": "code",
   "execution_count": 6,
   "metadata": {},
   "outputs": [
    {
     "name": "stdout",
     "output_type": "stream",
     "text": [
      "as esu funkcija\n"
     ]
    }
   ],
   "source": [
    "modulis.printA()"
   ]
  },
  {
   "cell_type": "code",
   "execution_count": 7,
   "metadata": {},
   "outputs": [
    {
     "name": "stdout",
     "output_type": "stream",
     "text": [
      "Trainkinys turi 200 sed vietu\n",
      "Masina turi 120 sed vietu\n",
      "Autobusas turi 2 sed vietu\n"
     ]
    }
   ],
   "source": [
    "# iškelkite savo anksčiau rašytas Vehicle, Car, etc klases\n",
    "# į modulį\n",
    "# ir patikrinkite klasių veikimą\n",
    "# sukurdami kintamuosius ir patikrindami jų veikimą\n",
    "test = modulis.Train( P='Trainkinys ', R=5000, S= 200)\n",
    "print(test.getSeats())\n",
    "\n",
    "test1 = modulis.Car( P='Masina ', R=5000, S= 120)\n",
    "print(test1.getSeats())\n",
    "\n",
    "test2 = modulis.Bus( P='Autobusas ', R=5000, S= 2)\n",
    "\n",
    "print(test2.getSeats())"
   ]
  },
  {
   "cell_type": "code",
   "execution_count": 9,
   "metadata": {},
   "outputs": [],
   "source": [
    "#sukurkite failus nuskaitančią klasę, ji turi būti aprašyta jūsų kuriamame modulyje;\n",
    "#ta klasė turi nuskaityti pateiktą failą, ir suskaidyti stulpelius į sąrašus:\n",
    "#sąrašai I, U, j, P, duomenys iš juos iš atitinkamų taip pat pavadintų stulpelių\n",
    "#realizuokite tai, jog klasė rastų tokį dydį - maksimalų P, suskaičiuotų tokį dydį pce = Pmax / 1000 * 100%;\n",
    "#šie dydžiai turi būti pasiekiamį arba kaip atributas, arba galite įdėti metodą jam gauti\n",
    "import numpy as np\n"
   ]
  },
  {
   "cell_type": "code",
   "execution_count": 22,
   "metadata": {},
   "outputs": [
    {
     "ename": "ValueError",
     "evalue": "max() iterable argument is empty",
     "output_type": "error",
     "traceback": [
      "\u001b[1;31m---------------------------------------------------------------------------\u001b[0m",
      "\u001b[1;31mValueError\u001b[0m                                Traceback (most recent call last)",
      "Cell \u001b[1;32mIn[22], line 2\u001b[0m\n\u001b[0;32m      1\u001b[0m testasas\u001b[38;5;241m=\u001b[39m modulis\u001b[38;5;241m.\u001b[39mfailai(\u001b[38;5;124m'\u001b[39m\u001b[38;5;124mV1145_A_3k_FW_2.03\u001b[39m\u001b[38;5;124m'\u001b[39m,\u001b[38;5;124m'\u001b[39m\u001b[38;5;124m ; \u001b[39m\u001b[38;5;124m'\u001b[39m)\n\u001b[1;32m----> 2\u001b[0m \u001b[38;5;28mprint\u001b[39m(\u001b[43mtestasas\u001b[49m\u001b[38;5;241;43m.\u001b[39;49m\u001b[43mmaxp\u001b[49m\u001b[43m(\u001b[49m\u001b[43m)\u001b[49m)\n",
      "File \u001b[1;32md:\\Git\\Jupyternotebooks\\modulis.py:75\u001b[0m, in \u001b[0;36mfailai.maxp\u001b[1;34m(self)\u001b[0m\n\u001b[0;32m     74\u001b[0m \u001b[38;5;28;01mdef\u001b[39;00m \u001b[38;5;21mmaxp\u001b[39m(\u001b[38;5;28mself\u001b[39m):\n\u001b[1;32m---> 75\u001b[0m     pmax\u001b[38;5;241m=\u001b[39m(\u001b[38;5;28;43mmax\u001b[39;49m\u001b[43m(\u001b[49m\u001b[38;5;28;43mself\u001b[39;49m\u001b[38;5;241;43m.\u001b[39;49m\u001b[43mp\u001b[49m\u001b[43m)\u001b[49m)\n\u001b[0;32m     76\u001b[0m     \u001b[38;5;28;01mreturn\u001b[39;00m pmax\n",
      "\u001b[1;31mValueError\u001b[0m: max() iterable argument is empty"
     ]
    }
   ],
   "source": [
    "testasas= modulis.failai('V1145_A_3k_FW_2.03',';')\n",
    "print(testasas.maxp())"
   ]
  },
  {
   "cell_type": "code",
   "execution_count": 51,
   "metadata": {},
   "outputs": [
    {
     "name": "stdout",
     "output_type": "stream",
     "text": [
      "['U[V] ; I[A] ; j[mA/cm^2] ; P[mW/cm^2]\\n', '1.2 ; 0.0005167 ; 6.4587625 ; 7.750515\\n', '1.1766667 ; 0.0005105 ; 6.3817112 ; 7.5091469\\n', '1.1533333 ; 0.0004552 ; 5.6900225 ; 6.5624926\\n', '1.13 ; 0.0003836 ; 4.7946613 ; 5.4179672\\n', '1.1066667 ; 0.0003048 ; 3.8098413 ; 4.2162243\\n', '1.0833333 ; 0.0002241 ; 2.80134 ; 3.034785\\n', '1.06 ; 0.0001429 ; 1.7864875 ; 1.8936767\\n', '1.0366667 ; 6.38e-05 ; 0.7976935 ; 0.8269423\\n', '1.0133333 ; -1.43e-05 ; -0.1792418 ; -0.1816316\\n', '0.99 ; -9.23e-05 ; -1.1542955 ; -1.1427525\\n', '0.9666667 ; -0.0001648 ; -2.0604813 ; -1.9917985\\n', '0.9433333 ; -0.0002385 ; -2.9815475 ; -2.8125931\\n', '0.92 ; -0.0003079 ; -3.8486588 ; -3.540766\\n', '0.8966667 ; -0.0003758 ; -4.69809 ; -4.2126207\\n', '0.8733333 ; -0.0004409 ; -5.5114387 ; -4.8133232\\n', '0.85 ; -0.0005058 ; -6.3226512 ; -5.3742536\\n', '0.8266667 ; -0.0005672 ; -7.0894987 ; -5.8606523\\n', '0.8033333 ; -0.0006257 ; -7.8210212 ; -6.2828871\\n', '0.78 ; -0.0006826 ; -8.533085 ; -6.6558063\\n', '0.7566667 ; -0.0007363 ; -9.2032388 ; -6.963784\\n', '0.7333333 ; -0.000786 ; -9.8255675 ; -7.2054162\\n', '0.71 ; -0.0008339 ; -10.4242763 ; -7.4012361\\n', '0.6866667 ; -0.000881 ; -11.0124575 ; -7.5618875\\n', '0.6633333 ; -0.000922 ; -11.5248187 ; -7.6447964\\n', '0.64 ; -0.0009576 ; -11.9697875 ; -7.660664\\n', '0.6166667 ; -0.0009861 ; -12.3265612 ; -7.6013794\\n', '0.5933333 ; -0.0010164 ; -12.704625 ; -7.5380775\\n', '0.57 ; -0.001045 ; -13.0625125 ; -7.4456321\\n', '0.5466667 ; -0.0010637 ; -13.2959875 ; -7.2684732\\n', '0.5233333 ; -0.0010838 ; -13.5477875 ; -7.0900088\\n', '0.5 ; -0.0011025 ; -13.7810125 ; -6.8905062\\n', '0.4766667 ; -0.001117 ; -13.9628125 ; -6.6556073\\n', '0.4533333 ; -0.0011256 ; -14.0697625 ; -6.3782923\\n', '0.43 ; -0.0011383 ; -14.2284125 ; -6.1182174\\n', '0.4066667 ; -0.0011509 ; -14.386075 ; -5.8503372\\n', '0.3833333 ; -0.0011565 ; -14.456625 ; -5.5417062\\n', '0.36 ; -0.0011651 ; -14.5639125 ; -5.2430085\\n', '0.3366667 ; -0.0011756 ; -14.6956125 ; -4.9475229\\n', '0.3133333 ; -0.0011781 ; -14.726125 ; -4.6141858\\n', '0.29 ; -0.0011825 ; -14.7810625 ; -4.2865081\\n', '0.2666667 ; -0.0011862 ; -14.8273 ; -3.9539467\\n', '0.2433333 ; -0.001196 ; -14.949525 ; -3.6377177\\n', '0.22 ; -0.0011972 ; -14.9651625 ; -3.2923357\\n', '0.1966667 ; -0.0012048 ; -15.05965 ; -2.9617312\\n', '0.1733333 ; -0.001208 ; -15.099475 ; -2.6172423\\n', '0.15 ; -0.0012051 ; -15.063325 ; -2.2594987\\n', '0.1266667 ; -0.001215 ; -15.1879375 ; -1.9238054\\n', '0.1033333 ; -0.001218 ; -15.2255625 ; -1.5733081\\n', '0.08 ; -0.001219 ; -15.237875 ; -1.21903\\n', '0.0566667 ; -0.0012256 ; -15.3198375 ; -0.8681241\\n', '0.0333333 ; -0.0012279 ; -15.34815 ; -0.511605\\n', '0.01 ; -0.0012304 ; -15.3806125 ; -0.1538061\\n', '-0.0133333 ; -0.0012327 ; -15.409275 ; 0.205457\\n', '-0.0366667 ; -0.0012338 ; -15.422575 ; 0.5654944\\n', '-0.06 ; -0.001245 ; -15.5619375 ; 0.9337163\\n', '-0.0833333 ; -0.0012386 ; -15.4828 ; 1.2902333\\n', '-0.1066667 ; -0.0012499 ; -15.6243625 ; 1.6665987\\n', '-0.13 ; -0.0012471 ; -15.5888625 ; 2.0265521\\n', '-0.1533333 ; -0.0012527 ; -15.6589 ; 2.4010313\\n', '-0.1766667 ; -0.0012536 ; -15.670525 ; 2.7684594\\n', '-0.2 ; -0.0012496 ; -15.6205625 ; 3.1241125']\n",
      "[7.750515, 7.5091469, 6.5624926, 5.4179672, 4.2162243, 3.034785, 1.8936767, 0.8269423, -0.1816316, -1.1427525, -1.9917985, -2.8125931, -3.540766, -4.2126207, -4.8133232, -5.3742536, -5.8606523, -6.2828871, -6.6558063, -6.963784, -7.2054162, -7.4012361, -7.5618875, -7.6447964, -7.660664, -7.6013794, -7.5380775, -7.4456321, -7.2684732, -7.0900088, -6.8905062, -6.6556073, -6.3782923, -6.1182174, -5.8503372, -5.5417062, -5.2430085, -4.9475229, -4.6141858, -4.2865081, -3.9539467, -3.6377177, -3.2923357, -2.9617312, -2.6172423, -2.2594987, -1.9238054, -1.5733081, -1.21903, -0.8681241, -0.511605, -0.1538061, 0.205457, 0.5654944, 0.9337163, 1.2902333, 1.6665987, 2.0265521, 2.4010313, 2.7684594, 3.1241125]\n",
      "7.750515\n",
      "0.78\n"
     ]
    }
   ],
   "source": [
    "import modulis2\n",
    "tst=modulis2.failai('123.dat',';')\n",
    "tst.read()\n",
    "print(tst.maxp())\n",
    "print(tst.getpce())\n",
    "#Bonus, kas atliko - pabandykite realizuoti radimą tokių verčių: j kai U = 0 (arba close to zero), \n",
    "#U, kai j =0 (arba close to zero), jie turi specialius žymėjimus jsc ir Uoc."
   ]
  }
 ],
 "metadata": {
  "kernelspec": {
   "display_name": "Python 3",
   "language": "python",
   "name": "python3"
  },
  "language_info": {
   "codemirror_mode": {
    "name": "ipython",
    "version": 3
   },
   "file_extension": ".py",
   "mimetype": "text/x-python",
   "name": "python",
   "nbconvert_exporter": "python",
   "pygments_lexer": "ipython3",
   "version": "3.12.2"
  }
 },
 "nbformat": 4,
 "nbformat_minor": 2
}
