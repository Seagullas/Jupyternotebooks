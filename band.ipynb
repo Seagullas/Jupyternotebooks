{
 "cells": [
  {
   "cell_type": "code",
   "execution_count": 1,
   "metadata": {},
   "outputs": [
    {
     "name": "stdout",
     "output_type": "stream",
     "text": [
      "labas\n"
     ]
    }
   ],
   "source": [
    "print('labas')"
   ]
  },
  {
   "cell_type": "code",
   "execution_count": 27,
   "metadata": {},
   "outputs": [],
   "source": [
    "Name= 'Džonas'\n",
    "class Asmuo():\n",
    "    def __init__(self, name):\n",
    "        self.Name= name# klasės atributas. Tiesiog kintamasis esantis klasės viduje\n",
    "        pass\n",
    "    def getName(self):\n",
    "        return self.Name\n",
    "    def setName(self, newname):\n",
    "        self.Name = newname"
   ]
  },
  {
   "cell_type": "code",
   "execution_count": 28,
   "metadata": {},
   "outputs": [
    {
     "name": "stdout",
     "output_type": "stream",
     "text": [
      "<class '__main__.Asmuo'>\n",
      "<class '__main__.Asmuo'>\n"
     ]
    }
   ],
   "source": [
    "a1=Asmuo('Jonukas')\n",
    "a2=Asmuo(\"petriukas\")\n",
    "print(type(a1), type(a2), sep='\\n')"
   ]
  },
  {
   "cell_type": "code",
   "execution_count": 30,
   "metadata": {},
   "outputs": [
    {
     "name": "stdout",
     "output_type": "stream",
     "text": [
      "Jonukas\n",
      "Vardas\n"
     ]
    }
   ],
   "source": [
    "print(a1.getName())\n",
    "a1.setName('Vardas')\n",
    "print(a1.getName())"
   ]
  },
  {
   "cell_type": "code",
   "execution_count": 34,
   "metadata": {},
   "outputs": [],
   "source": [
    "class Asmuo():\n",
    "    def __init__(self, name,gm):\n",
    "        self.Name= name# klasės atributas. Tiesiog kintamasis esantis klasės viduje\n",
    "        self.Byear=gm\n",
    "        self.Age=self.calculateage() #kaip kreitis į metodą iš kito metodo\n",
    "        pass\n",
    "    def getName(self):\n",
    "        return self.Name\n",
    "    def setName(self, newname):\n",
    "        self.Name = newname\n",
    "    \n",
    "    def calculateage(self):\n",
    "        return 2024-self.Byear"
   ]
  },
  {
   "cell_type": "code",
   "execution_count": 35,
   "metadata": {},
   "outputs": [
    {
     "name": "stdout",
     "output_type": "stream",
     "text": [
      "26 Stasys\n"
     ]
    }
   ],
   "source": [
    "a1= Asmuo('Stasys', 1998)\n",
    "print(a1.Age, a1.getName())"
   ]
  },
  {
   "cell_type": "code",
   "execution_count": 42,
   "metadata": {},
   "outputs": [],
   "source": [
    "# paveldėjimas\n",
    "\n",
    "class Studentas(Asmuo):\n",
    "    def getstatus(self):\n",
    "        return \"Studentas\""
   ]
  },
  {
   "cell_type": "code",
   "execution_count": 43,
   "metadata": {},
   "outputs": [],
   "source": [
    "std1= Studentas('Lukas', 1798)"
   ]
  },
  {
   "cell_type": "code",
   "execution_count": 44,
   "metadata": {},
   "outputs": [
    {
     "name": "stdout",
     "output_type": "stream",
     "text": [
      "226 Lukas\n"
     ]
    }
   ],
   "source": [
    "print(std1.Age, std1.getName())"
   ]
  },
  {
   "cell_type": "code",
   "execution_count": 45,
   "metadata": {},
   "outputs": [
    {
     "data": {
      "text/plain": [
       "'Studentas'"
      ]
     },
     "execution_count": 45,
     "metadata": {},
     "output_type": "execute_result"
    }
   ],
   "source": [
    "std1.getstatus()"
   ]
  },
  {
   "cell_type": "code",
   "execution_count": 48,
   "metadata": {},
   "outputs": [],
   "source": [
    "#sudetingesnis paveldejimo atvejis\n",
    "\n",
    "class Studentas(Asmuo):\n",
    "    def __init__(self,name,gm):\n",
    "        super().__init__(name, gm) #čia kreipiesi į praeitą initą, nes be to skaito tik dabartinę, be jokių duomenų\n",
    "        self.Enroll= True\n",
    "\n",
    "std1= Studentas(\"Juozas\", 1990)"
   ]
  },
  {
   "cell_type": "code",
   "execution_count": 50,
   "metadata": {},
   "outputs": [
    {
     "name": "stdout",
     "output_type": "stream",
     "text": [
      "34 True\n"
     ]
    }
   ],
   "source": [
    "print(std1.Age, std1.Enroll)"
   ]
  },
  {
   "cell_type": "code",
   "execution_count": 51,
   "metadata": {},
   "outputs": [],
   "source": [
    "#Aprašykite klasę Kvadratas\n",
    "#Kreipiantis į savę, reikia nurodyti kvadrato ilgį a\n",
    "#Klasė turi turėti atributą Plotas, kurį\n",
    "#turi apskaičiuoti klasės kūrimo metu.\n",
    "#Plotas= a*a\n",
    "#Parašykite metoda, kuris grąžintų apskaičiuoto Plotas atributo reikšmę."
   ]
  },
  {
   "cell_type": "code",
   "execution_count": 75,
   "metadata": {},
   "outputs": [
    {
     "name": "stdout",
     "output_type": "stream",
     "text": [
      "64\n"
     ]
    }
   ],
   "source": [
    "class Kvadratas():\n",
    "    def __init__(self,a):\n",
    "        self.Plotas= a*a\n",
    "    def plotas(self):  \n",
    "        return self.Plotas\n",
    "kvadratu= Kvadratas(a=8)\n",
    "print(kvadratu.plotas())\n",
    "# class Asmuo():\n",
    "#     def __init__(self, name,gm):\n",
    "#         self.Name= name# klasės atributas. Tiesiog kintamasis esantis klasės viduje\n",
    "#         self.Byear=gm\n",
    "#         self.Age=self.calculateage() #kaip kreitis į metodą iš kito metodo\n",
    "#         pass\n",
    "#     def getName(self):\n",
    "#         return self.Name\n",
    "#     def setName(self, newname):\n",
    "#         self.Name = newname\n",
    "    \n",
    "#     def calculateage(self):\n",
    "#         return 2024-self.Byear"
   ]
  },
  {
   "cell_type": "code",
   "execution_count": 83,
   "metadata": {},
   "outputs": [
    {
     "name": "stdout",
     "output_type": "stream",
     "text": [
      "64\n",
      "32\n"
     ]
    }
   ],
   "source": [
    "class Kvadratas():\n",
    "    def __init__(self,a):\n",
    "        self.a = a\n",
    "        self.Plotas= a*a\n",
    "        self.Perimetras= a*4\n",
    "    def plotas(self):  \n",
    "        return self.Plotas\n",
    "    def perimetras(self):\n",
    "        return self.Perimetras\n",
    "    \n",
    "kvadratu= Kvadratas(8)\n",
    "print(kvadratu.plotas())\n",
    "print(kvadratu.perimetras())"
   ]
  },
  {
   "cell_type": "code",
   "execution_count": 85,
   "metadata": {},
   "outputs": [
    {
     "name": "stdout",
     "output_type": "stream",
     "text": [
      "24\n",
      "32\n"
     ]
    }
   ],
   "source": [
    "# aprašykite klasę Rectangle\n",
    "# kreipiantis į klasę, reikia nurodyti stačiakampio\n",
    "# kraštines a ir b.\n",
    "# Realizuokite atributą Plotas = a*b\n",
    "# ir metodą, grąžinantį Ploto reikšmę\n",
    "# Taip pat pridėkite metodą, apskaičiuojantį ir grąžinantį\n",
    "# perimetrą P=2(a+b)\n",
    "\n",
    "class Rectangle():\n",
    "    def __init__(self,a ,b):\n",
    "        self.a=a\n",
    "        self.b=b\n",
    "        self.Plotas=a*b\n",
    "        self.Perimetras=(2*a)+(2*b)\n",
    "    def plotas(self):\n",
    "        return self.Plotas\n",
    "    def perimetras(self):\n",
    "        return self.Perimetras\n",
    "Rekt= Rectangle(8,4)\n",
    "print(Rekt.perimetras())\n",
    "print(Rekt.plotas())"
   ]
  },
  {
   "cell_type": "code",
   "execution_count": null,
   "metadata": {},
   "outputs": [],
   "source": []
  },
  {
   "cell_type": "code",
   "execution_count": 92,
   "metadata": {},
   "outputs": [
    {
     "name": "stdout",
     "output_type": "stream",
     "text": [
      "Plotas= Perimetras=\n",
      "(72, 36)\n",
      "turis=\n",
      "144\n"
     ]
    }
   ],
   "source": [
    "class geometrija():\n",
    "    def __init__(self, a, b,c):\n",
    "        self.Perimetras=2*(a+b)\n",
    "        self.Plotas= a*b\n",
    "        self.Turis= a*b*c\n",
    "    def staciakampis(self):\n",
    "        print('Plotas=',\"Perimetras=\")\n",
    "        return self.Plotas, self.Perimetras \n",
    "    def kubas(self):\n",
    "        print('turis=')\n",
    "        return self.Turis\n",
    "\n",
    "geo= geometrija(12,6,2)  \n",
    "print(geo.staciakampis()) \n",
    "print(geo.kubas())  "
   ]
  },
  {
   "cell_type": "code",
   "execution_count": 94,
   "metadata": {},
   "outputs": [
    {
     "name": "stdout",
     "output_type": "stream",
     "text": [
      "64\n"
     ]
    }
   ],
   "source": [
    "class kvadratas():\n",
    "    def __init__(self, a):\n",
    "        self.a= a\n",
    "    def plotas(self):\n",
    "        return self.a*self.a\n",
    "kv=kvadratas(8)\n",
    "        .plotas())"
   ]
  },
  {
   "cell_type": "code",
   "execution_count": 114,
   "metadata": {},
   "outputs": [
    {
     "name": "stdout",
     "output_type": "stream",
     "text": [
      "Juozas yra agurkas\n"
     ]
    }
   ],
   "source": [
    "#susikurkite su Notepadu tekstinį failą su bet kokiu tekstu\n",
    "#parašykite klasę TxtReader, kuriai kreipimosimetu būtų nurodomas tekstinio failo pavadinimas;\n",
    "#klasės sukūrimo metu tas tekstinis failas turi būti nuskaitomas\n",
    "#ir nuskaitytas tekstas turi būti priskirtas atributui Text\n",
    "#parašykite metodą getText(), kuri grąžintų atributo text reikšmę\n",
    "import os\n",
    "os.getcwd()\n",
    "class TxtReader():\n",
    "    # fname= 'txt.txt'\n",
    "    # f= open(fname, mode= 'r', encoding='utf-8')\n",
    "    # turinys= f.read()\n",
    "    # f.close()\n",
    "    def __init__ (self,tekstas):\n",
    "        self.tekstas= tekstas\n",
    "        failas= open(self.tekstas, mode='r', encoding='utf-8')\n",
    "        self.Text= failas.read() #cia atributas, x=7 - kintamasis\n",
    "        failas.close()\n",
    "    def getText(self):\n",
    "        return self.Text\n",
    "        # failas= open(self.tekstas, mode='r', encoding='utf-8')\n",
    "        # turinys= failas.read()\n",
    "        # failas.close()\n",
    "        # return turinys\n",
    "\n",
    "tekstas= TxtReader('txt.txt')\n",
    "\n",
    "print(tekstas.getText())"
   ]
  },
  {
   "cell_type": "code",
   "execution_count": 126,
   "metadata": {},
   "outputs": [
    {
     "name": "stdout",
     "output_type": "stream",
     "text": [
      "(904.3199999999999, 452.16)\n",
      "(179503.3333333333, 452.16)\n"
     ]
    }
   ],
   "source": [
    "#Sukurkite klasę Rutulys\n",
    "#kuriai galėtumėte nurodyti Rutulio spindulį r.\n",
    "#Sukurkite metodus, skirtus rasti jo Tūriui ir paviršiaus plotui;\n",
    "#Taip pat metodą, kuriuo jūs pakeistumėte spindulio r reikšmę.\n",
    "class Rutulys():\n",
    "    def __init__(self, r):\n",
    "        self.Turis= 4/3*3.14*(r**3)\n",
    "        self.plotas=4*3.14*(r**2)\n",
    "\n",
    "    def turis(self):\n",
    "        return self.Turis, self.plotas\n",
    "    def keitimas(self,z):\n",
    "        self.Turis= 4/3*3.14*(z**3)\n",
    "rut= Rutulys(6)\n",
    "print(rut.turis())\n",
    "rut.keitimas(35)\n",
    "print(rut.turis())\n",
    "# class geometrija():\n",
    "#     def __init__(self, a, b,c):\n",
    "#         self.Perimetras=2*(a+b)\n",
    "#         self.Plotas= a*b\n",
    "#         self.Turis= a*b*c\n",
    "#     def staciakampis(self):\n",
    "#         print('Plotas=',\"Perimetras=\")\n",
    "#         return self.Plotas, self.Perimetras \n",
    "#     def kubas(self):\n",
    "#         print('turis=')\n",
    "#         return self.Turis\n",
    "\n",
    "# geo= geometrija(12,6,2)  \n",
    "# print(geo.staciakampis()) \n",
    "# print(geo.kubas())  "
   ]
  },
  {
   "cell_type": "code",
   "execution_count": 133,
   "metadata": {},
   "outputs": [
    {
     "name": "stdout",
     "output_type": "stream",
     "text": [
      "113.04\n",
      "113.03999999999999\n",
      "314.0\n",
      "523.3333333333334\n"
     ]
    }
   ],
   "source": [
    "class Rutulys():\n",
    "    def __init__ (self, r):\n",
    "        self.r = r\n",
    "           \n",
    "    def getPav_Plotas(self):\n",
    "        Pav_Plotas = 4*3.14*self.r**2\n",
    "        return Pav_Plotas\n",
    "\n",
    "    def getTūris(self):\n",
    "        Tūris = 4/3*3.14*self.r**3\n",
    "        return Tūris\n",
    "    \n",
    "    def changer(self, new_r):\n",
    "        self.r = new_r\n",
    "        \n",
    "r = int(input(\"Įveskite spindulį r\"))\n",
    "    \n",
    "rutulys  = Rutulys(r)\n",
    "print(rutulys.getPav_Plotas())\n",
    "print(rutulys.getTūris())\n",
    "\n",
    "r = int(input(\"Įveskite spindulį r\"))\n",
    "rutulys.changer(r)\n",
    "\n",
    "print(rutulys.getPav_Plotas())\n",
    "print(rutulys.getTūris())"
   ]
  },
  {
   "cell_type": "code",
   "execution_count": 183,
   "metadata": {},
   "outputs": [
    {
     "name": "stdout",
     "output_type": "stream",
     "text": [
      "48\n",
      "28\n",
      "105.0\n",
      "45\n"
     ]
    }
   ],
   "source": [
    "#užduotis su paveldjimu:\n",
    "#parašykite klasę Rectangle, kurioje būtų ilgio ir pločio atributai, bei du metodai - getS - plotui ir getP -erimetrui rasti\n",
    "#ukurkite išvestinę (child) klasę Kubas, kuri papildomai turėtų Tūrio skaičiavimo metodą\n",
    "#• Klasę Piramidė - išvestinė klasė (child class). Pridėkite\n",
    "# papildomą funkcionalumą - metodą, argumentus piramidės\n",
    "# tūrio skaičiavimui.\n",
    "class rectangle():\n",
    "    def __init__(self,plotis,ilgis):\n",
    "        self.ilgis= ilgis\n",
    "        self.plotis= plotis\n",
    "        self.plotas = self.ilgis * self.plotis\n",
    "        self.perimetras = (self.ilgis+ self.plotis)*2\n",
    "    def getS(self):\n",
    "        return self.plotas\n",
    "    def getP(self):\n",
    "        return self.perimetras\n",
    "rect= rectangle(8,6)\n",
    "print(rect.getS())\n",
    "print(rect.getP())\n",
    "class piramide(rectangle):\n",
    "    def __init__(self,plotis, ilgis, h):\n",
    "        super().__init__(plotis, ilgis) #čia iš 8 eilutės\n",
    "        self.h = h\n",
    "    def Turis(self):\n",
    "        turis= self.plotas/3*self.h\n",
    "        return turis\n",
    "pir= piramide(5,7,9)\n",
    "print(pir.Turis())\n",
    "class kubas(rectangle):\n",
    "    def __init__ (self, plotis, ilgis,h):\n",
    "        super().__init__(plotis, ilgis)\n",
    "        self.h = h\n",
    "    def KTuris(self):\n",
    "        kturis= self.plotas*self.h\n",
    "        return kturis\n",
    "kub= kubas(1,5,9)\n",
    "print(kub.KTuris())\n",
    "        "
   ]
  },
  {
   "cell_type": "code",
   "execution_count": 141,
   "metadata": {},
   "outputs": [
    {
     "name": "stdout",
     "output_type": "stream",
     "text": [
      "18.54\n",
      "28.26\n",
      "61.8\n",
      "314.0\n"
     ]
    }
   ],
   "source": [
    "# #Parašykite klasę Apskritimas, kuriai glite nurodyti apskritimo spindulį r.\n",
    "# Erealizuokite du metodus getS ir getP, plotui ir perimetrui gražinti. \n",
    "# #taip pat pridėkite metodą, skirtą spindulio keitimui\n",
    "# P=2*pi*r\n",
    "# S=pi*r^2\n",
    "class Apskritimas():\n",
    "    def __init__ (self, r):\n",
    "        self.r = r\n",
    "    def getS(self):\n",
    "        return 3.14*(self.r**2)\n",
    "    def getP(self):\n",
    "        return 6.18*self.r\n",
    "    def change (self, newr):\n",
    "        self.r = newr\n",
    "\n",
    "aps= Apskritimas(3)\n",
    "print(aps.getP())\n",
    "print(aps.getS())\n",
    "\n",
    "\n",
    "aps.change(10)\n",
    "print(aps.getP())\n",
    "print(aps.getS())\n"
   ]
  },
  {
   "cell_type": "code",
   "execution_count": 146,
   "metadata": {},
   "outputs": [
    {
     "name": "stdout",
     "output_type": "stream",
     "text": [
      "18.54\n",
      "28.26\n",
      "61.8\n",
      "314.0\n"
     ]
    }
   ],
   "source": [
    "#advanced Apskritimas:\n",
    "#padarykite taip, jog klasė Apskritimas turėtų atributus S ir P, plotui ir perimetrui,\n",
    "#  ir kad atnaujinus spindulį r, automatiškai pasikeistų S ir P atributų reikšmės, \n",
    "# o getS, getP metodai, kaip ir anksčiau grąžintų S ir P atributų reikšmes.\n",
    "\n",
    "class Apskritimas():\n",
    "    def __init__ (self, r):\n",
    "        self.r = r\n",
    "        self.S=3.14*(self.r**2)\n",
    "        self.P=6.18*self.r\n",
    "\n",
    "\n",
    "    def getS(self):\n",
    "        return self.S\n",
    "    def getP(self):\n",
    "        return self.P\n",
    "    def change (self, newr):\n",
    "        self.r = newr\n",
    "        self.S=3.14*(self.r**2)\n",
    "        self.P=6.18*self.r\n",
    "\n",
    "aps= Apskritimas(3)\n",
    "print(aps.getP())\n",
    "print(aps.getS())\n",
    "\n",
    "\n",
    "aps.change(10)\n",
    "print(aps.getP())\n",
    "print(aps.getS())"
   ]
  },
  {
   "cell_type": "code",
   "execution_count": 147,
   "metadata": {},
   "outputs": [
    {
     "name": "stdout",
     "output_type": "stream",
     "text": [
      "31.400000000000002 78.5\n",
      "62.800000000000004 314.0\n"
     ]
    }
   ],
   "source": [
    "class Apskritimas():\n",
    "    def __init__(self, r):\n",
    "        self.R = r\n",
    "        self.S = 0\n",
    "        self.P = 0\n",
    "        self.upadeAll()\n",
    "    \n",
    "    def getP(self):\n",
    "        return self.P\n",
    "    \n",
    "    def getS(self):\n",
    "        return self.S\n",
    "    \n",
    "    def upadeAll(self):\n",
    "        self.S = 3.14*self.R**2\n",
    "        self.P = 2*3.14*self.R\n",
    "        \n",
    "    def change(self, new_r):\n",
    "        self.R = new_r\n",
    "        self.upadeAll()\n",
    "\n",
    "a = Apskritimas(5)\n",
    "print(a.getP(), a.getS())\n",
    "a.change(10)\n",
    "print(a.getP(), a.getS())"
   ]
  },
  {
   "cell_type": "code",
   "execution_count": 198,
   "metadata": {},
   "outputs": [
    {
     "name": "stdout",
     "output_type": "stream",
     "text": [
      "Nisanas turi 8\n",
      "None\n"
     ]
    }
   ],
   "source": [
    "# #su paveldėjimu:\n",
    "# Sukurkite klasę Vehicle su tokiais atributais - Pavadinimas, Rida\n",
    "# #Sukurkite išvestines klases Car, Bus, Train, kurie paveldėtų viską iš Vehicle,\n",
    "# #  ir papildomai būtų galima nurodyti Seats - sėdimų vietų skaičių, \n",
    "# # ir visi turėtų metoda GetSeats() grąžinantį tekstą: <Pavadinimas> turi <Seats> sėdimų vietų.\n",
    "class vechile():\n",
    "    def __init__(self, pavadinimas, rida):\n",
    "        self.pavadinimas = pavadinimas\n",
    "class car(vechile):\n",
    "    def __init__(self, pavadinimas, rida, vietos):\n",
    "        super().__init__(pavadinimas, rida)\n",
    "        self.vietos= vietos\n",
    "    def vietos (self):\n",
    "        return self.vietos\n",
    "    def Pavadinimas(self):\n",
    "        return self.pavadinimas\n",
    "    def GetSeats(self):\n",
    "        tekstas= print(self.pavadinimas, 'turi', self.vietos)\n",
    "        return tekstas\n",
    "\n",
    "\n",
    "masina= car(pavadinimas = 'Nisanas', rida = 77, vietos =8)\n",
    "print(masina.GetSeats())\n",
    "# class rectangle():\n",
    "#     def __init__(self,plotis,ilgis):\n",
    "#         self.ilgis= ilgis\n",
    "#         self.plotis= plotis\n",
    "#         self.plotas = self.ilgis * self.plotis\n",
    "#         self.perimetras = (self.ilgis+ self.plotis)*2\n",
    "#     def getS(self):\n",
    "#         return self.plotas\n",
    "#     def getP(self):\n",
    "#         return self.perimetras\n",
    "# rect= rectangle(8,6)\n",
    "# print(rect.getS())\n",
    "# print(rect.getP())\n",
    "# class piramide(rectangle):\n",
    "#     def __init__(self,plotis, ilgis, h):\n",
    "#         super().__init__(plotis, ilgis) #čia iš 8 eilutės\n",
    "#         self.h = h\n",
    "#     def Turis(self):\n",
    "#         turis= self.plotas/3*self.h\n",
    "#         return turis\n",
    "# pir= piramide(5,7,9)\n",
    "# print(pir.Turis())\n",
    "# class kubas(rectangle):\n",
    "#     def __init__ (self, plotis, ilgis,h):\n",
    "#         super().__init__(plotis, ilgis)\n",
    "#         self.h = h\n",
    "#     def KTuris(self):\n",
    "#         kturis= self.plotas*self.h\n",
    "#         return kturis\n",
    "# kub= kubas(1,5,9)\n",
    "# print(kub.KTuris())"
   ]
  },
  {
   "cell_type": "code",
   "execution_count": null,
   "metadata": {},
   "outputs": [],
   "source": [
    "## čia pvz su __ dėl privačių classų\n",
    "class keturiolika_failu():\n",
    "    def __init__(self, Pavadinimas, Skirtukas):\n",
    "        self.Pavadinimas = Pavadinimas\n",
    "        self.Skirtukas = Skirtukas\n",
    "        self.I = []\n",
    "        self.U = []\n",
    "        self.j = []\n",
    "        self.p = []\n",
    "        self.__dataReader() # kreipiasi i dataReader; __ padar privaciu ir naudojami tik klases viduje\n",
    "    def __dataReader(self):\n",
    "        fname = self.Pavadinimas\n",
    "        file = open(fname, mode='r', encoding= 'utf-8')\n",
    "        sarasas = file.readlines()\n",
    "        file.close()\n",
    "        for eilute in sarasas[1::]:\n",
    "            self.I.append(float(eilute.split(self.Skirtukas)[0]))\n",
    "            self.U.append(float(eilute.split(self.Skirtukas)[1]))           \n",
    "            self.j.append(float(eilute.split(self.Skirtukas)[2]))\n",
    "            self.p.append(float(eilute.split(self.Skirtukas)[3].replace('\\n', '')))\n",
    "    def getPmax(self):\n",
    "        Pmax = (max(self.p))\n",
    "        return Pmax\n",
    "    \n",
    "    def getPCE(self):\n",
    "        Pmax= self.getPmax()\n",
    "        PCE = round((Pmax / 1000 * 100),2)\n",
    "        return PCE\n",
    "    \n",
    "sarasas = keturiolika_failu('REF_D_5k_FW_2.03.dat',';')\n",
    "# sarasas.__dataReader()\n",
    "print(sarasas.getPCE())"
   ]
  },
  {
   "cell_type": "code",
   "execution_count": 3,
   "metadata": {},
   "outputs": [],
   "source": [
    "import pandas as pd"
   ]
  },
  {
   "cell_type": "code",
   "execution_count": 4,
   "metadata": {},
   "outputs": [
    {
     "name": "stdout",
     "output_type": "stream",
     "text": [
      "Defaulting to user installation because normal site-packages is not writeable\n",
      "Requirement already satisfied: matplotlib in c:\\users\\37060\\appdata\\local\\packages\\pythonsoftwarefoundation.python.3.12_qbz5n2kfra8p0\\localcache\\local-packages\\python312\\site-packages (3.8.3)\n",
      "Requirement already satisfied: contourpy>=1.0.1 in c:\\users\\37060\\appdata\\local\\packages\\pythonsoftwarefoundation.python.3.12_qbz5n2kfra8p0\\localcache\\local-packages\\python312\\site-packages (from matplotlib) (1.2.0)\n",
      "Requirement already satisfied: cycler>=0.10 in c:\\users\\37060\\appdata\\local\\packages\\pythonsoftwarefoundation.python.3.12_qbz5n2kfra8p0\\localcache\\local-packages\\python312\\site-packages (from matplotlib) (0.12.1)\n",
      "Requirement already satisfied: fonttools>=4.22.0 in c:\\users\\37060\\appdata\\local\\packages\\pythonsoftwarefoundation.python.3.12_qbz5n2kfra8p0\\localcache\\local-packages\\python312\\site-packages (from matplotlib) (4.50.0)\n",
      "Requirement already satisfied: kiwisolver>=1.3.1 in c:\\users\\37060\\appdata\\local\\packages\\pythonsoftwarefoundation.python.3.12_qbz5n2kfra8p0\\localcache\\local-packages\\python312\\site-packages (from matplotlib) (1.4.5)\n",
      "Requirement already satisfied: numpy<2,>=1.21 in c:\\users\\37060\\appdata\\local\\packages\\pythonsoftwarefoundation.python.3.12_qbz5n2kfra8p0\\localcache\\local-packages\\python312\\site-packages (from matplotlib) (1.26.4)\n",
      "Requirement already satisfied: packaging>=20.0 in c:\\users\\37060\\appdata\\local\\packages\\pythonsoftwarefoundation.python.3.12_qbz5n2kfra8p0\\localcache\\local-packages\\python312\\site-packages (from matplotlib) (24.0)\n",
      "Requirement already satisfied: pillow>=8 in c:\\users\\37060\\appdata\\local\\packages\\pythonsoftwarefoundation.python.3.12_qbz5n2kfra8p0\\localcache\\local-packages\\python312\\site-packages (from matplotlib) (10.2.0)\n",
      "Requirement already satisfied: pyparsing>=2.3.1 in c:\\users\\37060\\appdata\\local\\packages\\pythonsoftwarefoundation.python.3.12_qbz5n2kfra8p0\\localcache\\local-packages\\python312\\site-packages (from matplotlib) (3.1.2)\n",
      "Requirement already satisfied: python-dateutil>=2.7 in c:\\users\\37060\\appdata\\local\\packages\\pythonsoftwarefoundation.python.3.12_qbz5n2kfra8p0\\localcache\\local-packages\\python312\\site-packages (from matplotlib) (2.9.0.post0)\n",
      "Requirement already satisfied: six>=1.5 in c:\\users\\37060\\appdata\\local\\packages\\pythonsoftwarefoundation.python.3.12_qbz5n2kfra8p0\\localcache\\local-packages\\python312\\site-packages (from python-dateutil>=2.7->matplotlib) (1.16.0)\n",
      "Note: you may need to restart the kernel to use updated packages.\n"
     ]
    }
   ],
   "source": [
    "pip install matplotlib"
   ]
  },
  {
   "cell_type": "code",
   "execution_count": 5,
   "metadata": {},
   "outputs": [],
   "source": [
    "import matplotlib.pyplot as plt"
   ]
  },
  {
   "cell_type": "code",
   "execution_count": 2,
   "metadata": {},
   "outputs": [
    {
     "name": "stdout",
     "output_type": "stream",
     "text": [
      "Defaulting to user installation because normal site-packages is not writeableNote: you may need to restart the kernel to use updated packages.\n",
      "\n",
      "Collecting pandas\n",
      "  Using cached pandas-2.2.1-cp312-cp312-win_amd64.whl.metadata (19 kB)\n",
      "Requirement already satisfied: numpy<2,>=1.26.0 in c:\\users\\37060\\appdata\\local\\packages\\pythonsoftwarefoundation.python.3.12_qbz5n2kfra8p0\\localcache\\local-packages\\python312\\site-packages (from pandas) (1.26.4)\n",
      "Requirement already satisfied: python-dateutil>=2.8.2 in c:\\users\\37060\\appdata\\local\\packages\\pythonsoftwarefoundation.python.3.12_qbz5n2kfra8p0\\localcache\\local-packages\\python312\\site-packages (from pandas) (2.9.0.post0)\n",
      "Collecting pytz>=2020.1 (from pandas)\n",
      "  Using cached pytz-2024.1-py2.py3-none-any.whl.metadata (22 kB)\n",
      "Collecting tzdata>=2022.7 (from pandas)\n",
      "  Using cached tzdata-2024.1-py2.py3-none-any.whl.metadata (1.4 kB)\n",
      "Requirement already satisfied: six>=1.5 in c:\\users\\37060\\appdata\\local\\packages\\pythonsoftwarefoundation.python.3.12_qbz5n2kfra8p0\\localcache\\local-packages\\python312\\site-packages (from python-dateutil>=2.8.2->pandas) (1.16.0)\n",
      "Using cached pandas-2.2.1-cp312-cp312-win_amd64.whl (11.5 MB)\n",
      "Using cached pytz-2024.1-py2.py3-none-any.whl (505 kB)\n",
      "Using cached tzdata-2024.1-py2.py3-none-any.whl (345 kB)\n",
      "Installing collected packages: pytz, tzdata, pandas\n",
      "Successfully installed pandas-2.2.1 pytz-2024.1 tzdata-2024.1\n"
     ]
    }
   ],
   "source": [
    "pip install pandas"
   ]
  },
  {
   "cell_type": "code",
   "execution_count": 43,
   "metadata": {},
   "outputs": [
    {
     "ename": "ValueError",
     "evalue": "min() iterable argument is empty",
     "output_type": "error",
     "traceback": [
      "\u001b[1;31m---------------------------------------------------------------------------\u001b[0m",
      "\u001b[1;31mValueError\u001b[0m                                Traceback (most recent call last)",
      "Cell \u001b[1;32mIn[43], line 21\u001b[0m\n\u001b[0;32m     19\u001b[0m         \u001b[38;5;28;01mreturn\u001b[39;00m maz\n\u001b[0;32m     20\u001b[0m tst \u001b[38;5;241m=\u001b[39m mokinys(\u001b[38;5;124m'\u001b[39m\u001b[38;5;124mstasys\u001b[39m\u001b[38;5;124m'\u001b[39m,\u001b[38;5;124m'\u001b[39m\u001b[38;5;124mstasiauskas\u001b[39m\u001b[38;5;124m'\u001b[39m,pazymiai \u001b[38;5;241m=\u001b[39m [\u001b[38;5;241m5\u001b[39m,\u001b[38;5;241m6\u001b[39m,\u001b[38;5;241m8\u001b[39m,\u001b[38;5;241m10\u001b[39m,\u001b[38;5;241m1\u001b[39m,\u001b[38;5;241m3\u001b[39m])\n\u001b[1;32m---> 21\u001b[0m \u001b[43mtst\u001b[49m\u001b[38;5;241;43m.\u001b[39;49m\u001b[43mmin\u001b[49m\u001b[43m(\u001b[49m\u001b[43m)\u001b[49m\n\u001b[0;32m     22\u001b[0m \u001b[38;5;66;03m# Sukurkite Abiturientas klasę, kuri paveldi Mokinys klasę ir prideda papildomą funkcionalumą, pvz.,\u001b[39;00m\n\u001b[0;32m     23\u001b[0m \u001b[38;5;66;03m# gebėjimą pridėti egzamino rezultatus ir skaičiuoti bendrą vidurkį, įskaitant ir egzamino rezultatus.\u001b[39;00m\n\u001b[0;32m     24\u001b[0m \u001b[38;5;28;01mclass\u001b[39;00m \u001b[38;5;21;01mabiturientas\u001b[39;00m(mokinys):\n",
      "Cell \u001b[1;32mIn[43], line 18\u001b[0m, in \u001b[0;36mmokinys.min\u001b[1;34m(self)\u001b[0m\n\u001b[0;32m     17\u001b[0m \u001b[38;5;28;01mdef\u001b[39;00m \u001b[38;5;21mmin\u001b[39m(\u001b[38;5;28mself\u001b[39m):\n\u001b[1;32m---> 18\u001b[0m     maz\u001b[38;5;241m=\u001b[39m (\u001b[38;5;28;43mmin\u001b[39;49m\u001b[43m(\u001b[49m\u001b[38;5;28;43mself\u001b[39;49m\u001b[38;5;241;43m.\u001b[39;49m\u001b[43m__pazymiai\u001b[49m\u001b[43m)\u001b[49m)\n\u001b[0;32m     19\u001b[0m     \u001b[38;5;28;01mreturn\u001b[39;00m maz\n",
      "\u001b[1;31mValueError\u001b[0m: min() iterable argument is empty"
     ]
    }
   ],
   "source": [
    "# # Sukurkite Mokinys klasę, kuri turės mokinio vardą, pavardę ir sąrašą pažymių. Įtraukite metodus,\n",
    "# # kurie skaičiuotų vidurkį, didžiausią ir mažiausią pažymį.\n",
    "# class mokinys():\n",
    "#     def __init__(self, vardas, pavarde, pazymiai):\n",
    "#         self.vardas= vardas\n",
    "#         self.pavarde=pavarde\n",
    "#         self.__pazymiai=[]\n",
    "#     def addpaz (self, pazimys):\n",
    "#         if pazimys>0 and pazimys<11:\n",
    "#             self._pazymiai=[]\n",
    "#     def didz(self):\n",
    "#         pmax= (max(self.__pazymiai))\n",
    "#         return pmax\n",
    "#     def vid(self):\n",
    "#         vidurkis= sum(self.__pazymiai)/len(self.__pazymiai)\n",
    "#         return vidurkis\n",
    "#     def min(self):\n",
    "#         maz= (min(self.__pazymiai))\n",
    "#         return maz\n",
    "# tst = mokinys('stasys','stasiauskas',pazymiai = [5,6,8,10,1,3])\n",
    "# tst.min()\n",
    "# # Sukurkite Abiturientas klasę, kuri paveldi Mokinys klasę ir prideda papildomą funkcionalumą, pvz.,\n",
    "# # gebėjimą pridėti egzamino rezultatus ir skaičiuoti bendrą vidurkį, įskaitant ir egzamino rezultatus.\n",
    "# class abiturientas(mokinys):\n",
    "#     def __init__(self, vardas, pavarde, pazymiai,egzas):\n",
    "#         super().__init__(vardas, pavarde, pazymiai)\n",
    "#         self.egzas= egzas\n",
    "#     def newvid (self):\n",
    "#         visipazymiai= self.egzas +self.pazymiai\n",
    "#         vidurkisegz= sum(visipazymiai)/len(visipazymiai)\n",
    "#         return vidurkisegz\n",
    "\n",
    "# tst1= abiturientas (vardas= 'stasys', pavarde='stasiunas', pazymiai= [5,7,6,8,10], egzas=[6,9])\n",
    "# print(tst1.newvid())\n",
    "\n",
    "\n",
    "\n",
    "# Sukurkite Mokykla klasę, kuri turės sąrašą Mokinys objektų. Įtraukite metodus, kurie leistų pridėti\n",
    "# naują mokinį, pašalinti mokinį, bei skaičiuoti visos mokyklos mokinių pažymių vidurkius.\n",
    "# class mokykla():\n",
    "#     def __init__(self):\n",
    "#         self.Mokinys=[]\n",
    "        \n",
    "#     def prideti(self,mokinys):\n",
    "#         self.Mokinys.append(mokinys)\n",
    "#     def pasalinti(self, mokinys):\n",
    "#         self.Mokinys.remove(mokinys)\n",
    "#     def vidurkiai(self):\n",
    "#         visumokpaz=[]\n",
    "#         for mokinys in self.Mokinys:\n",
    "#             print(mokinys)\n",
    "#             visumokpaz.extend(mokinys.pazymiai) ##extend- sujungia sarasus!\n",
    "#         visupazvid=sum(visumokpaz)/len(visumokpaz)\n",
    "#         return visupazvid\n",
    "# Mokykla= mokykla()\n",
    "# mokinys3= mokinys('vardas','pavarde',[1,6,5,7,8,8,9])\n",
    "# Mokykla.prideti(tst)\n",
    "\n",
    "# print(Mokykla.vidurkiai())\n",
    "\n",
    "\n",
    "# Atnaujinkite Mokinys klasę taip, kad pažymių sąrašas būtų privatus. Sukurkite metodus, kurie\n",
    "# leistų saugiai pridėti ir gauti pažymius, užtikrinant, kad negalima būtų pridėti netinkamų pažymių\n",
    "# (pvz., neigiamų ar didesnių nei 10).\n",
    "\n",
    "# Klasės turi būti aprašytos jūsų kuriamame modulyje.\n",
    "# Klases tikrinimui importuokite taip, kad \n",
    "# NEREIKĖTŲ modulio pavadinimo prieš klasę naudoti."
   ]
  },
  {
   "cell_type": "code",
   "execution_count": 38,
   "metadata": {},
   "outputs": [
    {
     "ename": "NameError",
     "evalue": "name 'getpazymis' is not defined",
     "output_type": "error",
     "traceback": [
      "\u001b[1;31m---------------------------------------------------------------------------\u001b[0m",
      "\u001b[1;31mNameError\u001b[0m                                 Traceback (most recent call last)",
      "Cell \u001b[1;32mIn[38], line 20\u001b[0m\n\u001b[0;32m     18\u001b[0m         maz\u001b[38;5;241m=\u001b[39m (\u001b[38;5;28mmin\u001b[39m(\u001b[38;5;28mself\u001b[39m\u001b[38;5;241m.\u001b[39m__pazymiai))\n\u001b[0;32m     19\u001b[0m         \u001b[38;5;28;01mreturn\u001b[39;00m maz\n\u001b[1;32m---> 20\u001b[0m tst \u001b[38;5;241m=\u001b[39m mokinys(\u001b[38;5;124m'\u001b[39m\u001b[38;5;124mstasys\u001b[39m\u001b[38;5;124m'\u001b[39m,\u001b[38;5;124m'\u001b[39m\u001b[38;5;124mstasiauskas\u001b[39m\u001b[38;5;124m'\u001b[39m,\u001b[43mgetpazymis\u001b[49m()) \u001b[38;5;66;03m#,__pazymiai = [5,6,8,10,1,3]\u001b[39;00m\n\u001b[0;32m     21\u001b[0m tst\u001b[38;5;241m.\u001b[39mmin()\n",
      "\u001b[1;31mNameError\u001b[0m: name 'getpazymis' is not defined"
     ]
    }
   ],
   "source": [
    "# class mokinys():\n",
    "#     def __init__(self, vardas, pavarde, pazymiai):\n",
    "#         self.vardas= vardas\n",
    "#         self.pavarde=pavarde\n",
    "#         self.__pazymiai=[]\n",
    "#     def addpaz (self, pazimys):\n",
    "#         if pazimys>0 and pazimys<11:\n",
    "#             self.__pazymiai.append(pazimys)\n",
    "#     def getpazymis(self):\n",
    "#         return self.__pazymiai\n",
    "#     def didz(self):\n",
    "#         pmax= (max(self.__pazymiai))\n",
    "#         return pmax\n",
    "#     def vid(self):\n",
    "#         vidurkis= sum(self.__pazymiai)/len(self.__pazymiai)\n",
    "#         return vidurkis\n",
    "#     def min(self):\n",
    "#         maz= (min(self.__pazymiai))\n",
    "#         return maz\n",
    "# tst = mokinys('stasys','stasiauskas',getpazymis()) #,__pazymiai = [5,6,8,10,1,3]\n",
    "# tst.min()"
   ]
  },
  {
   "cell_type": "code",
   "execution_count": null,
   "metadata": {},
   "outputs": [],
   "source": [
    "# #Remigijus\n",
    "# class Mokinys():\n",
    "#     def __init__(self, vardas, pavarde):\n",
    "#         self.V = vardas\n",
    "#         self.P = pavarde\n",
    "#         self.pazymiai = []\n",
    "#     def getVidurkis(self):\n",
    "#         vidurkis = sum(self.pazymiai)/len(self.pazymiai)\n",
    "#         return vidurkis\n",
    "    \n",
    "#     def getMax(self):\n",
    "#         pazymysMax = max(self.pazymiai)\n",
    "#         return pazymysMax\n",
    "#     def getMin(self):\n",
    "#         pazymysMin = min(self.pazymiai)\n",
    "#         return pazymysMin\n",
    "# mokinys1 = Mokinys(\"Vardenis\", \"Pavardenis\")\n",
    "# mokinys1.pazymiai = [4, 7, 10, 7, 6]\n",
    "# print(\"Vardas:\", mokinys1.V)\n",
    "# print(\"Pavardė:\", mokinys1.P)\n",
    "# print(\"Vidurkis:\", mokinys1.getVidurkis())\n",
    "# print(\"Didžiausias pažymys:\", mokinys1.getMax())\n",
    "# print(\"Mažiausias pažymys:\", mokinys1.getMin())\n",
    "# mokinys2 = Mokinys(\"Vardenis2\", \"Pavardenis2\")\n",
    "# mokinys2.pazymiai = [1, 7, 5, 7, 6]\n",
    "# print(\"Vardas:\", mokinys2.V)\n",
    "# print(\"Pavardė:\", mokinys2.P)\n",
    "# print(\"Vidurkis:\", mokinys2.getVidurkis())\n",
    "# print(\"Didžiausias pažymys:\", mokinys2.getMax())\n",
    "# print(\"Mažiausias pažymys:\", mokinys2.getMin())"
   ]
  },
  {
   "cell_type": "code",
   "execution_count": 33,
   "metadata": {},
   "outputs": [
    {
     "name": "stdout",
     "output_type": "stream",
     "text": [
      "6.583333333333333\n"
     ]
    }
   ],
   "source": [
    "# #Remigijus\n",
    "# class Mokykla():\n",
    "#     def __init__(self):\n",
    "#         self.Mokiniai = []\n",
    "#     def addMokinys(self, mokinys):\n",
    "#         self.Mokiniai.append(mokinys)\n",
    "#     def removeMokinys(self, mokinys):\n",
    "#         self.Mokiniai.remove(mokinys)\n",
    "#     def VisuMokiniuVidurkis(self):\n",
    "#         VisuMokiniuPazymiai = []\n",
    "#         for mokinys in self.Mokiniai:\n",
    "#             VisuMokiniuPazymiai.extend(mokinys.pazymiai) # extend leidzia sujungti skirtingus sarasus, prisplecia sarasas, esantis pries extend metoda\n",
    "#         VisuMokiniuVidurkis = sum(VisuMokiniuPazymiai)/len(VisuMokiniuPazymiai)\n",
    "#         return VisuMokiniuVidurkis\n",
    "# mokykla = Mokykla()\n",
    "# mokinys3 = mokinys('Vardenis3', 'Pavardenis3',[1,5,9,7])\n",
    "# mokinys2 = mokinys('Vardenis3', 'Pavardenis3',[1,10,9,7])\n",
    "# mokinys1 = mokinys('Vardenis3', 'Pavardenis3',[9,5,9,7])\n",
    "# mokykla.addMokinys(mokinys1)\n",
    "# mokykla.addMokinys(mokinys2)\n",
    "# mokykla.addMokinys(mokinys3)\n",
    "# print(mokykla.VisuMokiniuVidurkis())\n",
    "# # extend alternatyva\n",
    "# # VisuMokiniuPazymiai = VisuMokiniuPazymiai + mokinys.pazymiai"
   ]
  },
  {
   "cell_type": "code",
   "execution_count": 42,
   "metadata": {},
   "outputs": [
    {
     "name": "stdout",
     "output_type": "stream",
     "text": [
      "stasys, stasiunas:6.571428571428571\n"
     ]
    }
   ],
   "source": [
    "# #modifikuotas Edita\n",
    "# class Mokinys():\n",
    "#     def __init__ (self, vardas, pavardė, pažymiai):\n",
    "#         self.vardas = vardas\n",
    "#         self.pavardė = pavardė\n",
    "#         self.__pažymiai = pažymiai\n",
    "\n",
    "#     def addPaz(self, pažymys):\n",
    "#         if pažymys>0 and pažymys<=10:\n",
    "#             self.__pažymiai.append(pažymys)\n",
    "#     def getPažymiai(self):\n",
    "#         return self.__pažymiai\n",
    "\n",
    "#     def getVidurkis(self):\n",
    "#         vidurkis = sum(self.__pažymiai)/len(self.__pažymiai)            \n",
    "#         return vidurkis\n",
    "    \n",
    "#     def getMinPaz(self):\n",
    "#         minpaz= min(self.__pažymiai)\n",
    "#         return minpaz\n",
    "    \n",
    "#     def getMaxPaz(self):\n",
    "#         maxpaz= max(self.__pažymiai)\n",
    "#         return maxpaz\n",
    "# mokinys1 = Mokinys('stasys','stasiunas', [1,2,6,10,10,8,9])\n",
    "# print(f'{mokinys1.vardas}, {mokinys1.pavardė}:{mokinys1.getVidurkis()}')"
   ]
  },
  {
   "cell_type": "code",
   "execution_count": 45,
   "metadata": {},
   "outputs": [],
   "source": [
    "from modulis3 import Mokinys, Abiturientas, Mokykla"
   ]
  }
 ],
 "metadata": {
  "kernelspec": {
   "display_name": "Python 3",
   "language": "python",
   "name": "python3"
  },
  "language_info": {
   "codemirror_mode": {
    "name": "ipython",
    "version": 3
   },
   "file_extension": ".py",
   "mimetype": "text/x-python",
   "name": "python",
   "nbconvert_exporter": "python",
   "pygments_lexer": "ipython3",
   "version": "3.12.3"
  }
 },
 "nbformat": 4,
 "nbformat_minor": 2
}
