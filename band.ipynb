{
 "cells": [
  {
   "cell_type": "code",
   "execution_count": 1,
   "metadata": {},
   "outputs": [
    {
     "name": "stdout",
     "output_type": "stream",
     "text": [
      "labas\n"
     ]
    }
   ],
   "source": [
    "print('labas')"
   ]
  },
  {
   "cell_type": "code",
   "execution_count": 27,
   "metadata": {},
   "outputs": [],
   "source": [
    "Name= 'Džonas'\n",
    "class Asmuo():\n",
    "    def __init__(self, name):\n",
    "        self.Name= name# klasės atributas. Tiesiog kintamasis esantis klasės viduje\n",
    "        pass\n",
    "    def getName(self):\n",
    "        return self.Name\n",
    "    def setName(self, newname):\n",
    "        self.Name = newname"
   ]
  },
  {
   "cell_type": "code",
   "execution_count": 28,
   "metadata": {},
   "outputs": [
    {
     "name": "stdout",
     "output_type": "stream",
     "text": [
      "<class '__main__.Asmuo'>\n",
      "<class '__main__.Asmuo'>\n"
     ]
    }
   ],
   "source": [
    "a1=Asmuo('Jonukas')\n",
    "a2=Asmuo(\"petriukas\")\n",
    "print(type(a1), type(a2), sep='\\n')"
   ]
  },
  {
   "cell_type": "code",
   "execution_count": 30,
   "metadata": {},
   "outputs": [
    {
     "name": "stdout",
     "output_type": "stream",
     "text": [
      "Jonukas\n",
      "Vardas\n"
     ]
    }
   ],
   "source": [
    "print(a1.getName())\n",
    "a1.setName('Vardas')\n",
    "print(a1.getName())"
   ]
  },
  {
   "cell_type": "code",
   "execution_count": 34,
   "metadata": {},
   "outputs": [],
   "source": [
    "class Asmuo():\n",
    "    def __init__(self, name,gm):\n",
    "        self.Name= name# klasės atributas. Tiesiog kintamasis esantis klasės viduje\n",
    "        self.Byear=gm\n",
    "        self.Age=self.calculateage() #kaip kreitis į metodą iš kito metodo\n",
    "        pass\n",
    "    def getName(self):\n",
    "        return self.Name\n",
    "    def setName(self, newname):\n",
    "        self.Name = newname\n",
    "    \n",
    "    def calculateage(self):\n",
    "        return 2024-self.Byear"
   ]
  },
  {
   "cell_type": "code",
   "execution_count": 35,
   "metadata": {},
   "outputs": [
    {
     "name": "stdout",
     "output_type": "stream",
     "text": [
      "26 Stasys\n"
     ]
    }
   ],
   "source": [
    "a1= Asmuo('Stasys', 1998)\n",
    "print(a1.Age, a1.getName())"
   ]
  },
  {
   "cell_type": "code",
   "execution_count": 42,
   "metadata": {},
   "outputs": [],
   "source": [
    "# paveldėjimas\n",
    "\n",
    "class Studentas(Asmuo):\n",
    "    def getstatus(self):\n",
    "        return \"Studentas\""
   ]
  },
  {
   "cell_type": "code",
   "execution_count": 43,
   "metadata": {},
   "outputs": [],
   "source": [
    "std1= Studentas('Lukas', 1798)"
   ]
  },
  {
   "cell_type": "code",
   "execution_count": 44,
   "metadata": {},
   "outputs": [
    {
     "name": "stdout",
     "output_type": "stream",
     "text": [
      "226 Lukas\n"
     ]
    }
   ],
   "source": [
    "print(std1.Age, std1.getName())"
   ]
  },
  {
   "cell_type": "code",
   "execution_count": 45,
   "metadata": {},
   "outputs": [
    {
     "data": {
      "text/plain": [
       "'Studentas'"
      ]
     },
     "execution_count": 45,
     "metadata": {},
     "output_type": "execute_result"
    }
   ],
   "source": [
    "std1.getstatus()"
   ]
  },
  {
   "cell_type": "code",
   "execution_count": 48,
   "metadata": {},
   "outputs": [],
   "source": [
    "#sudetingesnis paveldejimo atvejis\n",
    "\n",
    "class Studentas(Asmuo):\n",
    "    def __init__(self,name,gm):\n",
    "        super().__init__(name, gm) #čia kreipiesi į praeitą initą, nes be to skaito tik dabartinę, be jokių duomenų\n",
    "        self.Enroll= True\n",
    "\n",
    "std1= Studentas(\"Juozas\", 1990)"
   ]
  },
  {
   "cell_type": "code",
   "execution_count": 50,
   "metadata": {},
   "outputs": [
    {
     "name": "stdout",
     "output_type": "stream",
     "text": [
      "34 True\n"
     ]
    }
   ],
   "source": [
    "print(std1.Age, std1.Enroll)"
   ]
  },
  {
   "cell_type": "code",
   "execution_count": 51,
   "metadata": {},
   "outputs": [],
   "source": [
    "#Aprašykite klasę Kvadratas\n",
    "#Kreipiantis į savę, reikia nurodyti kvadrato ilgį a\n",
    "#Klasė turi turėti atributą Plotas, kurį\n",
    "#turi apskaičiuoti klasės kūrimo metu.\n",
    "#Plotas= a*a\n",
    "#Parašykite metoda, kuris grąžintų apskaičiuoto Plotas atributo reikšmę."
   ]
  },
  {
   "cell_type": "code",
   "execution_count": 75,
   "metadata": {},
   "outputs": [
    {
     "name": "stdout",
     "output_type": "stream",
     "text": [
      "64\n"
     ]
    }
   ],
   "source": [
    "class Kvadratas():\n",
    "    def __init__(self,a):\n",
    "        self.Plotas= a*a\n",
    "    def plotas(self):  \n",
    "        return self.Plotas\n",
    "kvadratu= Kvadratas(a=8)\n",
    "print(kvadratu.plotas())\n",
    "# class Asmuo():\n",
    "#     def __init__(self, name,gm):\n",
    "#         self.Name= name# klasės atributas. Tiesiog kintamasis esantis klasės viduje\n",
    "#         self.Byear=gm\n",
    "#         self.Age=self.calculateage() #kaip kreitis į metodą iš kito metodo\n",
    "#         pass\n",
    "#     def getName(self):\n",
    "#         return self.Name\n",
    "#     def setName(self, newname):\n",
    "#         self.Name = newname\n",
    "    \n",
    "#     def calculateage(self):\n",
    "#         return 2024-self.Byear"
   ]
  },
  {
   "cell_type": "code",
   "execution_count": 83,
   "metadata": {},
   "outputs": [
    {
     "name": "stdout",
     "output_type": "stream",
     "text": [
      "64\n",
      "32\n"
     ]
    }
   ],
   "source": [
    "class Kvadratas():\n",
    "    def __init__(self,a):\n",
    "        self.a = a\n",
    "        self.Plotas= a*a\n",
    "        self.Perimetras= a*4\n",
    "    def plotas(self):  \n",
    "        return self.Plotas\n",
    "    def perimetras(self):\n",
    "        return self.Perimetras\n",
    "    \n",
    "kvadratu= Kvadratas(8)\n",
    "print(kvadratu.plotas())\n",
    "print(kvadratu.perimetras())"
   ]
  },
  {
   "cell_type": "code",
   "execution_count": 85,
   "metadata": {},
   "outputs": [
    {
     "name": "stdout",
     "output_type": "stream",
     "text": [
      "24\n",
      "32\n"
     ]
    }
   ],
   "source": [
    "# aprašykite klasę Rectangle\n",
    "# kreipiantis į klasę, reikia nurodyti stačiakampio\n",
    "# kraštines a ir b.\n",
    "# Realizuokite atributą Plotas = a*b\n",
    "# ir metodą, grąžinantį Ploto reikšmę\n",
    "# Taip pat pridėkite metodą, apskaičiuojantį ir grąžinantį\n",
    "# perimetrą P=2(a+b)\n",
    "\n",
    "class Rectangle():\n",
    "    def __init__(self,a ,b):\n",
    "        self.a=a\n",
    "        self.b=b\n",
    "        self.Plotas=a*b\n",
    "        self.Perimetras=(2*a)+(2*b)\n",
    "    def plotas(self):\n",
    "        return self.Plotas\n",
    "    def perimetras(self):\n",
    "        return self.Perimetras\n",
    "Rekt= Rectangle(8,4)\n",
    "print(Rekt.perimetras())\n",
    "print(Rekt.plotas())"
   ]
  },
  {
   "cell_type": "code",
   "execution_count": null,
   "metadata": {},
   "outputs": [],
   "source": []
  },
  {
   "cell_type": "code",
   "execution_count": 92,
   "metadata": {},
   "outputs": [
    {
     "name": "stdout",
     "output_type": "stream",
     "text": [
      "Plotas= Perimetras=\n",
      "(72, 36)\n",
      "turis=\n",
      "144\n"
     ]
    }
   ],
   "source": [
    "class geometrija():\n",
    "    def __init__(self, a, b,c):\n",
    "        self.Perimetras=2*(a+b)\n",
    "        self.Plotas= a*b\n",
    "        self.Turis= a*b*c\n",
    "    def staciakampis(self):\n",
    "        print('Plotas=',\"Perimetras=\")\n",
    "        return self.Plotas, self.Perimetras \n",
    "    def kubas(self):\n",
    "        print('turis=')\n",
    "        return self.Turis\n",
    "\n",
    "geo= geometrija(12,6,2)  \n",
    "print(geo.staciakampis()) \n",
    "print(geo.kubas())  "
   ]
  },
  {
   "cell_type": "code",
   "execution_count": 94,
   "metadata": {},
   "outputs": [
    {
     "name": "stdout",
     "output_type": "stream",
     "text": [
      "64\n"
     ]
    }
   ],
   "source": [
    "class kvadratas():\n",
    "    def __init__(self, a):\n",
    "        self.a= a\n",
    "    def plotas(self):\n",
    "        return self.a*self.a\n",
    "kv=kvadratas(8)\n",
    "        .plotas())"
   ]
  },
  {
   "cell_type": "code",
   "execution_count": 114,
   "metadata": {},
   "outputs": [
    {
     "name": "stdout",
     "output_type": "stream",
     "text": [
      "Juozas yra agurkas\n"
     ]
    }
   ],
   "source": [
    "#susikurkite su Notepadu tekstinį failą su bet kokiu tekstu\n",
    "#parašykite klasę TxtReader, kuriai kreipimosimetu būtų nurodomas tekstinio failo pavadinimas;\n",
    "#klasės sukūrimo metu tas tekstinis failas turi būti nuskaitomas\n",
    "#ir nuskaitytas tekstas turi būti priskirtas atributui Text\n",
    "#parašykite metodą getText(), kuri grąžintų atributo text reikšmę\n",
    "import os\n",
    "os.getcwd()\n",
    "class TxtReader():\n",
    "    # fname= 'txt.txt'\n",
    "    # f= open(fname, mode= 'r', encoding='utf-8')\n",
    "    # turinys= f.read()\n",
    "    # f.close()\n",
    "    def __init__ (self,tekstas):\n",
    "        self.tekstas= tekstas\n",
    "        failas= open(self.tekstas, mode='r', encoding='utf-8')\n",
    "        self.Text= failas.read() #cia atributas, x=7 - kintamasis\n",
    "        failas.close()\n",
    "    def getText(self):\n",
    "        return self.Text\n",
    "        # failas= open(self.tekstas, mode='r', encoding='utf-8')\n",
    "        # turinys= failas.read()\n",
    "        # failas.close()\n",
    "        # return turinys\n",
    "\n",
    "tekstas= TxtReader('txt.txt')\n",
    "\n",
    "print(tekstas.getText())"
   ]
  },
  {
   "cell_type": "code",
   "execution_count": 126,
   "metadata": {},
   "outputs": [
    {
     "name": "stdout",
     "output_type": "stream",
     "text": [
      "(904.3199999999999, 452.16)\n",
      "(179503.3333333333, 452.16)\n"
     ]
    }
   ],
   "source": [
    "#Sukurkite klasę Rutulys\n",
    "#kuriai galėtumėte nurodyti Rutulio spindulį r.\n",
    "#Sukurkite metodus, skirtus rasti jo Tūriui ir paviršiaus plotui;\n",
    "#Taip pat metodą, kuriuo jūs pakeistumėte spindulio r reikšmę.\n",
    "class Rutulys():\n",
    "    def __init__(self, r):\n",
    "        self.Turis= 4/3*3.14*(r**3)\n",
    "        self.plotas=4*3.14*(r**2)\n",
    "\n",
    "    def turis(self):\n",
    "        return self.Turis, self.plotas\n",
    "    def keitimas(self,z):\n",
    "        self.Turis= 4/3*3.14*(z**3)\n",
    "rut= Rutulys(6)\n",
    "print(rut.turis())\n",
    "rut.keitimas(35)\n",
    "print(rut.turis())\n",
    "# class geometrija():\n",
    "#     def __init__(self, a, b,c):\n",
    "#         self.Perimetras=2*(a+b)\n",
    "#         self.Plotas= a*b\n",
    "#         self.Turis= a*b*c\n",
    "#     def staciakampis(self):\n",
    "#         print('Plotas=',\"Perimetras=\")\n",
    "#         return self.Plotas, self.Perimetras \n",
    "#     def kubas(self):\n",
    "#         print('turis=')\n",
    "#         return self.Turis\n",
    "\n",
    "# geo= geometrija(12,6,2)  \n",
    "# print(geo.staciakampis()) \n",
    "# print(geo.kubas())  "
   ]
  },
  {
   "cell_type": "code",
   "execution_count": 133,
   "metadata": {},
   "outputs": [
    {
     "name": "stdout",
     "output_type": "stream",
     "text": [
      "113.04\n",
      "113.03999999999999\n",
      "314.0\n",
      "523.3333333333334\n"
     ]
    }
   ],
   "source": [
    "class Rutulys():\n",
    "    def __init__ (self, r):\n",
    "        self.r = r\n",
    "           \n",
    "    def getPav_Plotas(self):\n",
    "        Pav_Plotas = 4*3.14*self.r**2\n",
    "        return Pav_Plotas\n",
    "\n",
    "    def getTūris(self):\n",
    "        Tūris = 4/3*3.14*self.r**3\n",
    "        return Tūris\n",
    "    \n",
    "    def changer(self, new_r):\n",
    "        self.r = new_r\n",
    "        \n",
    "r = int(input(\"Įveskite spindulį r\"))\n",
    "    \n",
    "rutulys  = Rutulys(r)\n",
    "print(rutulys.getPav_Plotas())\n",
    "print(rutulys.getTūris())\n",
    "\n",
    "r = int(input(\"Įveskite spindulį r\"))\n",
    "rutulys.changer(r)\n",
    "\n",
    "print(rutulys.getPav_Plotas())\n",
    "print(rutulys.getTūris())"
   ]
  },
  {
   "cell_type": "code",
   "execution_count": 183,
   "metadata": {},
   "outputs": [
    {
     "name": "stdout",
     "output_type": "stream",
     "text": [
      "48\n",
      "28\n",
      "105.0\n",
      "45\n"
     ]
    }
   ],
   "source": [
    "#užduotis su paveldjimu:\n",
    "#parašykite klasę Rectangle, kurioje būtų ilgio ir pločio atributai, bei du metodai - getS - plotui ir getP -erimetrui rasti\n",
    "#ukurkite išvestinę (child) klasę Kubas, kuri papildomai turėtų Tūrio skaičiavimo metodą\n",
    "#• Klasę Piramidė - išvestinė klasė (child class). Pridėkite\n",
    "# papildomą funkcionalumą - metodą, argumentus piramidės\n",
    "# tūrio skaičiavimui.\n",
    "class rectangle():\n",
    "    def __init__(self,plotis,ilgis):\n",
    "        self.ilgis= ilgis\n",
    "        self.plotis= plotis\n",
    "        self.plotas = self.ilgis * self.plotis\n",
    "        self.perimetras = (self.ilgis+ self.plotis)*2\n",
    "    def getS(self):\n",
    "        return self.plotas\n",
    "    def getP(self):\n",
    "        return self.perimetras\n",
    "rect= rectangle(8,6)\n",
    "print(rect.getS())\n",
    "print(rect.getP())\n",
    "class piramide(rectangle):\n",
    "    def __init__(self,plotis, ilgis, h):\n",
    "        super().__init__(plotis, ilgis) #čia iš 8 eilutės\n",
    "        self.h = h\n",
    "    def Turis(self):\n",
    "        turis= self.plotas/3*self.h\n",
    "        return turis\n",
    "pir= piramide(5,7,9)\n",
    "print(pir.Turis())\n",
    "class kubas(rectangle):\n",
    "    def __init__ (self, plotis, ilgis,h):\n",
    "        super().__init__(plotis, ilgis)\n",
    "        self.h = h\n",
    "    def KTuris(self):\n",
    "        kturis= self.plotas*self.h\n",
    "        return kturis\n",
    "kub= kubas(1,5,9)\n",
    "print(kub.KTuris())\n",
    "        "
   ]
  },
  {
   "cell_type": "code",
   "execution_count": 141,
   "metadata": {},
   "outputs": [
    {
     "name": "stdout",
     "output_type": "stream",
     "text": [
      "18.54\n",
      "28.26\n",
      "61.8\n",
      "314.0\n"
     ]
    }
   ],
   "source": [
    "# #Parašykite klasę Apskritimas, kuriai glite nurodyti apskritimo spindulį r.\n",
    "# Erealizuokite du metodus getS ir getP, plotui ir perimetrui gražinti. \n",
    "# #taip pat pridėkite metodą, skirtą spindulio keitimui\n",
    "# P=2*pi*r\n",
    "# S=pi*r^2\n",
    "class Apskritimas():\n",
    "    def __init__ (self, r):\n",
    "        self.r = r\n",
    "    def getS(self):\n",
    "        return 3.14*(self.r**2)\n",
    "    def getP(self):\n",
    "        return 6.18*self.r\n",
    "    def change (self, newr):\n",
    "        self.r = newr\n",
    "\n",
    "aps= Apskritimas(3)\n",
    "print(aps.getP())\n",
    "print(aps.getS())\n",
    "\n",
    "\n",
    "aps.change(10)\n",
    "print(aps.getP())\n",
    "print(aps.getS())\n"
   ]
  },
  {
   "cell_type": "code",
   "execution_count": 146,
   "metadata": {},
   "outputs": [
    {
     "name": "stdout",
     "output_type": "stream",
     "text": [
      "18.54\n",
      "28.26\n",
      "61.8\n",
      "314.0\n"
     ]
    }
   ],
   "source": [
    "#advanced Apskritimas:\n",
    "#padarykite taip, jog klasė Apskritimas turėtų atributus S ir P, plotui ir perimetrui,\n",
    "#  ir kad atnaujinus spindulį r, automatiškai pasikeistų S ir P atributų reikšmės, \n",
    "# o getS, getP metodai, kaip ir anksčiau grąžintų S ir P atributų reikšmes.\n",
    "\n",
    "class Apskritimas():\n",
    "    def __init__ (self, r):\n",
    "        self.r = r\n",
    "        self.S=3.14*(self.r**2)\n",
    "        self.P=6.18*self.r\n",
    "\n",
    "\n",
    "    def getS(self):\n",
    "        return self.S\n",
    "    def getP(self):\n",
    "        return self.P\n",
    "    def change (self, newr):\n",
    "        self.r = newr\n",
    "        self.S=3.14*(self.r**2)\n",
    "        self.P=6.18*self.r\n",
    "\n",
    "aps= Apskritimas(3)\n",
    "print(aps.getP())\n",
    "print(aps.getS())\n",
    "\n",
    "\n",
    "aps.change(10)\n",
    "print(aps.getP())\n",
    "print(aps.getS())"
   ]
  },
  {
   "cell_type": "code",
   "execution_count": 147,
   "metadata": {},
   "outputs": [
    {
     "name": "stdout",
     "output_type": "stream",
     "text": [
      "31.400000000000002 78.5\n",
      "62.800000000000004 314.0\n"
     ]
    }
   ],
   "source": [
    "class Apskritimas():\n",
    "    def __init__(self, r):\n",
    "        self.R = r\n",
    "        self.S = 0\n",
    "        self.P = 0\n",
    "        self.upadeAll()\n",
    "    \n",
    "    def getP(self):\n",
    "        return self.P\n",
    "    \n",
    "    def getS(self):\n",
    "        return self.S\n",
    "    \n",
    "    def upadeAll(self):\n",
    "        self.S = 3.14*self.R**2\n",
    "        self.P = 2*3.14*self.R\n",
    "        \n",
    "    def change(self, new_r):\n",
    "        self.R = new_r\n",
    "        self.upadeAll()\n",
    "\n",
    "a = Apskritimas(5)\n",
    "print(a.getP(), a.getS())\n",
    "a.change(10)\n",
    "print(a.getP(), a.getS())"
   ]
  },
  {
   "cell_type": "code",
   "execution_count": 198,
   "metadata": {},
   "outputs": [
    {
     "name": "stdout",
     "output_type": "stream",
     "text": [
      "Nisanas turi 8\n",
      "None\n"
     ]
    }
   ],
   "source": [
    "# #su paveldėjimu:\n",
    "# Sukurkite klasę Vehicle su tokiais atributais - Pavadinimas, Rida\n",
    "# #Sukurkite išvestines klases Car, Bus, Train, kurie paveldėtų viską iš Vehicle,\n",
    "# #  ir papildomai būtų galima nurodyti Seats - sėdimų vietų skaičių, \n",
    "# # ir visi turėtų metoda GetSeats() grąžinantį tekstą: <Pavadinimas> turi <Seats> sėdimų vietų.\n",
    "class vechile():\n",
    "    def __init__(self, pavadinimas, rida):\n",
    "        self.pavadinimas = pavadinimas\n",
    "class car(vechile):\n",
    "    def __init__(self, pavadinimas, rida, vietos):\n",
    "        super().__init__(pavadinimas, rida)\n",
    "        self.vietos= vietos\n",
    "    def vietos (self):\n",
    "        return self.vietos\n",
    "    def Pavadinimas(self):\n",
    "        return self.pavadinimas\n",
    "    def GetSeats(self):\n",
    "        tekstas= print(self.pavadinimas, 'turi', self.vietos)\n",
    "        return tekstas\n",
    "\n",
    "\n",
    "masina= car(pavadinimas = 'Nisanas', rida = 77, vietos =8)\n",
    "print(masina.GetSeats())\n",
    "# class rectangle():\n",
    "#     def __init__(self,plotis,ilgis):\n",
    "#         self.ilgis= ilgis\n",
    "#         self.plotis= plotis\n",
    "#         self.plotas = self.ilgis * self.plotis\n",
    "#         self.perimetras = (self.ilgis+ self.plotis)*2\n",
    "#     def getS(self):\n",
    "#         return self.plotas\n",
    "#     def getP(self):\n",
    "#         return self.perimetras\n",
    "# rect= rectangle(8,6)\n",
    "# print(rect.getS())\n",
    "# print(rect.getP())\n",
    "# class piramide(rectangle):\n",
    "#     def __init__(self,plotis, ilgis, h):\n",
    "#         super().__init__(plotis, ilgis) #čia iš 8 eilutės\n",
    "#         self.h = h\n",
    "#     def Turis(self):\n",
    "#         turis= self.plotas/3*self.h\n",
    "#         return turis\n",
    "# pir= piramide(5,7,9)\n",
    "# print(pir.Turis())\n",
    "# class kubas(rectangle):\n",
    "#     def __init__ (self, plotis, ilgis,h):\n",
    "#         super().__init__(plotis, ilgis)\n",
    "#         self.h = h\n",
    "#     def KTuris(self):\n",
    "#         kturis= self.plotas*self.h\n",
    "#         return kturis\n",
    "# kub= kubas(1,5,9)\n",
    "# print(kub.KTuris())"
   ]
  }
 ],
 "metadata": {
  "kernelspec": {
   "display_name": "Python 3",
   "language": "python",
   "name": "python3"
  },
  "language_info": {
   "codemirror_mode": {
    "name": "ipython",
    "version": 3
   },
   "file_extension": ".py",
   "mimetype": "text/x-python",
   "name": "python",
   "nbconvert_exporter": "python",
   "pygments_lexer": "ipython3",
   "version": "3.12.2"
  }
 },
 "nbformat": 4,
 "nbformat_minor": 2
}
