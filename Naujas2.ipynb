{
 "cells": [
  {
   "cell_type": "code",
   "execution_count": 20,
   "metadata": {},
   "outputs": [
    {
     "name": "stdout",
     "output_type": "stream",
     "text": [
      "d:\\Git\\Jupyternotebooks\n"
     ]
    }
   ],
   "source": [
    "import numpy as np\n",
    "import numpy.polynomial.polynomial as poly\n",
    "import pandas as pd\n",
    "import matplotlib.pyplot as plt\n",
    "import matplotlib as mpl\n",
    "from datetime import datetime\n",
    "from dateutil import parser\n",
    "#import mysql.connector as cnt\n",
    "#import panel as pn\n",
    "#pn.extension()\n",
    "import seaborn as sns\n",
    "import os\n",
    "print(os.getcwd())\n",
    "fontsize=16 #for all entries\n",
    "titlesize=24\n",
    "labelsize=16\n",
    "fwidth=6\n",
    "fheight=4\n",
    "import warnings\n",
    "warnings.filterwarnings('ignore')"
   ]
  },
  {
   "cell_type": "code",
   "execution_count": 2,
   "metadata": {},
   "outputs": [
    {
     "data": {
      "text/html": [
       "<div>\n",
       "<style scoped>\n",
       "    .dataframe tbody tr th:only-of-type {\n",
       "        vertical-align: middle;\n",
       "    }\n",
       "\n",
       "    .dataframe tbody tr th {\n",
       "        vertical-align: top;\n",
       "    }\n",
       "\n",
       "    .dataframe thead th {\n",
       "        text-align: right;\n",
       "    }\n",
       "</style>\n",
       "<table border=\"1\" class=\"dataframe\">\n",
       "  <thead>\n",
       "    <tr style=\"text-align: right;\">\n",
       "      <th></th>\n",
       "      <th>A</th>\n",
       "      <th>B</th>\n",
       "      <th>C</th>\n",
       "    </tr>\n",
       "  </thead>\n",
       "  <tbody>\n",
       "    <tr>\n",
       "      <th>0</th>\n",
       "      <td>7</td>\n",
       "      <td>9</td>\n",
       "      <td>12</td>\n",
       "    </tr>\n",
       "    <tr>\n",
       "      <th>1</th>\n",
       "      <td>5</td>\n",
       "      <td>11</td>\n",
       "      <td>15</td>\n",
       "    </tr>\n",
       "  </tbody>\n",
       "</table>\n",
       "</div>"
      ],
      "text/plain": [
       "   A   B   C\n",
       "0  7   9  12\n",
       "1  5  11  15"
      ]
     },
     "execution_count": 2,
     "metadata": {},
     "output_type": "execute_result"
    }
   ],
   "source": [
    "d={\"A\":7, 'B':9,'C':12}\n",
    "d1={'A':5, 'B':11,'C':15}\n",
    "data=[d,d1]\n",
    "\n",
    "df=pd.DataFrame(data=data)\n",
    "df"
   ]
  },
  {
   "cell_type": "code",
   "execution_count": 6,
   "metadata": {},
   "outputs": [
    {
     "data": {
      "text/html": [
       "<div>\n",
       "<style scoped>\n",
       "    .dataframe tbody tr th:only-of-type {\n",
       "        vertical-align: middle;\n",
       "    }\n",
       "\n",
       "    .dataframe tbody tr th {\n",
       "        vertical-align: top;\n",
       "    }\n",
       "\n",
       "    .dataframe thead th {\n",
       "        text-align: right;\n",
       "    }\n",
       "</style>\n",
       "<table border=\"1\" class=\"dataframe\">\n",
       "  <thead>\n",
       "    <tr style=\"text-align: right;\">\n",
       "      <th></th>\n",
       "      <th>AB</th>\n",
       "      <th>BC</th>\n",
       "    </tr>\n",
       "  </thead>\n",
       "  <tbody>\n",
       "    <tr>\n",
       "      <th>0</th>\n",
       "      <td>0.641070</td>\n",
       "      <td>36</td>\n",
       "    </tr>\n",
       "    <tr>\n",
       "      <th>1</th>\n",
       "      <td>0.061759</td>\n",
       "      <td>44</td>\n",
       "    </tr>\n",
       "    <tr>\n",
       "      <th>2</th>\n",
       "      <td>0.660407</td>\n",
       "      <td>92</td>\n",
       "    </tr>\n",
       "    <tr>\n",
       "      <th>3</th>\n",
       "      <td>0.621091</td>\n",
       "      <td>87</td>\n",
       "    </tr>\n",
       "    <tr>\n",
       "      <th>4</th>\n",
       "      <td>0.951029</td>\n",
       "      <td>98</td>\n",
       "    </tr>\n",
       "    <tr>\n",
       "      <th>5</th>\n",
       "      <td>0.873121</td>\n",
       "      <td>76</td>\n",
       "    </tr>\n",
       "    <tr>\n",
       "      <th>6</th>\n",
       "      <td>0.780311</td>\n",
       "      <td>85</td>\n",
       "    </tr>\n",
       "    <tr>\n",
       "      <th>7</th>\n",
       "      <td>0.493269</td>\n",
       "      <td>82</td>\n",
       "    </tr>\n",
       "    <tr>\n",
       "      <th>8</th>\n",
       "      <td>0.282623</td>\n",
       "      <td>22</td>\n",
       "    </tr>\n",
       "    <tr>\n",
       "      <th>9</th>\n",
       "      <td>0.959807</td>\n",
       "      <td>52</td>\n",
       "    </tr>\n",
       "  </tbody>\n",
       "</table>\n",
       "</div>"
      ],
      "text/plain": [
       "         AB  BC\n",
       "0  0.641070  36\n",
       "1  0.061759  44\n",
       "2  0.660407  92\n",
       "3  0.621091  87\n",
       "4  0.951029  98\n",
       "5  0.873121  76\n",
       "6  0.780311  85\n",
       "7  0.493269  82\n",
       "8  0.282623  22\n",
       "9  0.959807  52"
      ]
     },
     "execution_count": 6,
     "metadata": {},
     "output_type": "execute_result"
    }
   ],
   "source": [
    "d={'AB':np.random.rand(10),'BC':np.random.randint(10,100,10)}\n",
    "\n",
    "df=pd.DataFrame(data=d)\n",
    "df"
   ]
  },
  {
   "cell_type": "code",
   "execution_count": 2,
   "metadata": {},
   "outputs": [],
   "source": [
    "#!/bin/python3\n",
    "\n",
    "import numpy as np\n",
    "import pandas as pd\n",
    "import matplotlib.pyplot as plt\n",
    "import warnings\n",
    "warnings.filterwarnings('ignore')\n",
    "\n",
    "import time\n",
    "import selenium\n",
    "#import undetected_chromedriver as uc\n",
    "from selenium import webdriver\n",
    "from selenium.webdriver.chrome.options import Options\n",
    "from bs4 import BeautifulSoup\n",
    "\n",
    "opcijos = Options()\n",
    "opcijos.add_argument('--incognito')\n",
    "# opcijos.add_argument('--headless') #paleidžia naršyklę jos neatidarant kaip buvo su incognito\n",
    "\n",
    "# driver = uc.Chrome(options=opcijos)\n",
    "driver = webdriver.Chrome(options=opcijos)"
   ]
  },
  {
   "cell_type": "code",
   "execution_count": 48,
   "metadata": {},
   "outputs": [
    {
     "data": {
      "text/plain": [
       "<pandas.core.groupby.generic.SeriesGroupBy object at 0x0000025A5C5FEC60>"
      ]
     },
     "execution_count": 48,
     "metadata": {},
     "output_type": "execute_result"
    }
   ],
   "source": [
    "# Kriterijus - 1 kv metro kaina iki 1 VDu - pigūs, iki 3 VDU - brangūs, daugiau nei 3 VDU - neįperkami.\n",
    "# pavaizduokite su boxplotais kainų už 1 kv pasiskirstymą nuo kambarių skaičiaus.\n",
    "# Pavaizduokiet tokią informaciją: atrinktų butų kainų pasiskirstymą tarp miestų.\n",
    "# pavaizduokite tokią informaciją - kiek buvo sklebimų per skirtingus miestus jūsų atrankoje?\n",
    "ar = pd.read_csv('Aruoda.csv', sep=';')\n",
    "dus = pd.read_csv('DUS2018.csv')\n",
    "vidurkis = dus['bdu_metinis'].mean()\n",
    "vidurkisall=vidurkis/12\n",
    "vidurkisall\n",
    "kain= ar['kvadrato_kaina'].values\n",
    "kvm= ar['kambariu_skaicius'].values\n",
    "ar.head(5).reset_index()\n",
    "\n",
    "vid= ar.groupby('kambariu_skaicius')['kvadrato_kaina'].mean()\n",
    "\n",
    "\n",
    "# z=[]\n",
    "# z1=[]\n",
    "# kain\n",
    "# for i in kain:\n",
    "#     if i == 'kvadrato_kaina':\n",
    "#         pass\n",
    "#     else:\n",
    "#         z.append(i)\n",
    "\n",
    "# for i in kvm:\n",
    "#     if i =='kambariu_skaicius':\n",
    "#         pass\n",
    "#     else:\n",
    "#         z1.append(i)\n",
    "# a=list(map(int, z))\n",
    "# b=list(map(int, z1))\n",
    "\n"
   ]
  },
  {
   "cell_type": "code",
   "execution_count": 78,
   "metadata": {},
   "outputs": [
    {
     "name": "stdout",
     "output_type": "stream",
     "text": [
      "brangiu: 11 neiperkamu 39\n"
     ]
    }
   ],
   "source": [
    "counts= ar.groupby('kvadrato_kaina')\n",
    "\n",
    "brn=0\n",
    "neip=0\n",
    "for i in ar['kvadrato_kaina']:\n",
    "    if i< (vidurkisall*3):\n",
    "        brn=brn+1\n",
    "    else:\n",
    "        neip=neip+1\n",
    "print('brangiu:',brn,'neiperkamu',neip)\n"
   ]
  },
  {
   "cell_type": "code",
   "execution_count": 47,
   "metadata": {},
   "outputs": [
    {
     "data": {
      "image/png": "[encoded data removed]",
      "text/plain": [
       "<Figure size 640x480 with 1 Axes>"
      ]
     },
     "metadata": {},
     "output_type": "display_data"
    }
   ],
   "source": [
    "h= sns.boxplot(data = ar, x= kvm,y=kain,showmeans= True, showfliers=False)\n",
    "h.tick_params(axis='x', rotation=90)"
   ]
  },
  {
   "cell_type": "code",
   "execution_count": 118,
   "metadata": {},
   "outputs": [
    {
     "data": {
      "image/png": "[encoded data removed]",
      "text/plain": [
       "<Figure size 640x480 with 1 Axes>"
      ]
     },
     "metadata": {},
     "output_type": "display_data"
    }
   ],
   "source": [
    "# Pavaizduokiet tokią informaciją: atrinktų butų kainų pasiskirstymą tarp miestų.\n",
    "ar[['miestas','adr','ktr']]=ar['adresas'].str.split(',',expand=True)\n",
    "ar\n",
    "h= sns.boxplot(data = ar, x= 'miestas',y='buto _kaina',showmeans= True, showfliers=False)\n",
    "h.tick_params(axis='x', rotation=90)"
   ]
  },
  {
   "cell_type": "code",
   "execution_count": 131,
   "metadata": {},
   "outputs": [
    {
     "data": {
      "image/png": "[encoded data removed]",
      "text/plain": [
       "<Figure size 640x480 with 1 Axes>"
      ]
     },
     "metadata": {},
     "output_type": "display_data"
    }
   ],
   "source": [
    "# pavaizduokite tokią informaciją - kiek buvo sklebimų per skirtingus miestus jūsų atrankoje?\n",
    "visi=ar['miestas'].value_counts()\n",
    "visi1=visi.reset_index()\n",
    "visi1\n",
    "h= sns.boxplot(data = visi1, x= 'miestas',y='count',showmeans= True, showfliers=False)\n",
    "h.tick_params(axis='x', rotation=90)\n"
   ]
  },
  {
   "cell_type": "code",
   "execution_count": 143,
   "metadata": {},
   "outputs": [
    {
     "data": {
      "image/png": "[encoded data removed]",
      "text/plain": [
       "<Figure size 640x480 with 1 Axes>"
      ]
     },
     "metadata": {},
     "output_type": "display_data"
    }
   ],
   "source": [
    "# jūsų atrankoje, kiek automobilių buvo au atomatu, mech, kokios jų buvo vidutinės kainos?\n",
    "rez= pd.read_csv('rez3.csv', sep=';')\n",
    "\n",
    "rez.head().reset_index()\n",
    "visi1=rez[',pavaru deze'].value_counts().reset_index()\n",
    "visi1\n",
    "h= sns.barplot(data = visi1, x= ',pavaru deze',y='count')\n",
    "vid= rez.groupby(',pavaru deze')['kaina'].mean()\n",
    "# h.tick_params(axis='x', rotation=90)\n",
    "#advanced: su pie plot atvaizduokite gamintojų užimamą rinkos dalį (5 didžiausi + visi kiti)"
   ]
  },
  {
   "cell_type": "code",
   "execution_count": 170,
   "metadata": {},
   "outputs": [
    {
     "name": "stdout",
     "output_type": "stream",
     "text": [
      "71\n",
      "27\n"
     ]
    }
   ],
   "source": [
    "vid1=vid.reset_index()\n",
    "visi2=visi1.reset_index()\n",
    "p=[]\n",
    "visi2['count'].head()\n",
    "for i in visi2['count']:\n",
    "    print(i)\n",
    "    p.append(i)"
   ]
  },
  {
   "cell_type": "code",
   "execution_count": 175,
   "metadata": {},
   "outputs": [
    {
     "data": {
      "image/png": "[encoded data removed]",
      "text/plain": [
       "<Figure size 640x480 with 1 Axes>"
      ]
     },
     "metadata": {},
     "output_type": "display_data"
    }
   ],
   "source": [
    "langas, grafikas = plt.subplots() # (1,2, figsize=[8,4.5]) #16:9\n",
    "# # .plot() metodas\n",
    "\n",
    "p=grafikas.bar(visi2[',pavaru deze'],visi2['count'])\n",
    "grafikas.bar_label(p)\n",
    "grafikas.plot(vid1[',pavaru deze'],vid1['kaina'], linestyle=':', color='red')\n",
    "# grafikas.plot(a,d, label = r'$\\dfrac{\\pi^{2\\cdot \\eta}}{\\cos(\\omega\\cdot\\tau)}$', marker='D')\n",
    "\n",
    "# P = axis.bar(x, x*0.75)\n",
    "# axis.bar_label(P)\n",
    "\n",
    "\n",
    "# #grafikas.legend(loc='upper left') \n",
    "# # varaintai be best - 'best', 'upper right', 'upper left', 'lower left', \n",
    "# #'lower right', 'right', 'center left', 'center right', 'lower center', 'upper center', 'center'\n",
    "# grafikas.set_xlabel(\"cia x asis\")\n",
    "# grafikas.set_ylabel('cia y asis')\n",
    "# grafikas.set_title('cia pavadinimo komanda')\n",
    "# grafikas.legend(loc=[1,1])\n",
    "plt.show()"
   ]
  },
  {
   "cell_type": "code",
   "execution_count": 176,
   "metadata": {},
   "outputs": [
    {
     "data": {
      "text/html": [
       "<div>\n",
       "<style scoped>\n",
       "    .dataframe tbody tr th:only-of-type {\n",
       "        vertical-align: middle;\n",
       "    }\n",
       "\n",
       "    .dataframe tbody tr th {\n",
       "        vertical-align: top;\n",
       "    }\n",
       "\n",
       "    .dataframe thead th {\n",
       "        text-align: right;\n",
       "    }\n",
       "</style>\n",
       "<table border=\"1\" class=\"dataframe\">\n",
       "  <thead>\n",
       "    <tr style=\"text-align: right;\">\n",
       "      <th></th>\n",
       "      <th>kaina</th>\n",
       "      <th>,kuro tipas</th>\n",
       "      <th>,variklis</th>\n",
       "      <th>,pavaru deze</th>\n",
       "      <th>,rida</th>\n",
       "      <th>,tipas</th>\n",
       "      <th>,vietove</th>\n",
       "      <th>Unnamed: 7</th>\n",
       "    </tr>\n",
       "  </thead>\n",
       "  <tbody>\n",
       "    <tr>\n",
       "      <th>0</th>\n",
       "      <td>11700</td>\n",
       "      <td>Dyzelinas</td>\n",
       "      <td>3.0l.,210kW</td>\n",
       "      <td>Automatinė</td>\n",
       "      <td>279580</td>\n",
       "      <td>Visureigis / Krosoveris</td>\n",
       "      <td>Vilnius</td>\n",
       "      <td>NaN</td>\n",
       "    </tr>\n",
       "    <tr>\n",
       "      <th>1</th>\n",
       "      <td>11850</td>\n",
       "      <td>Benzinas</td>\n",
       "      <td>2.0l.,180kW</td>\n",
       "      <td>Automatinė</td>\n",
       "      <td>100254</td>\n",
       "      <td>Visureigis / Krosoveris</td>\n",
       "      <td>Vilnius</td>\n",
       "      <td>NaN</td>\n",
       "    </tr>\n",
       "    <tr>\n",
       "      <th>2</th>\n",
       "      <td>12400</td>\n",
       "      <td>Dyzelinas</td>\n",
       "      <td>3.0l.,195kW</td>\n",
       "      <td>Automatinė</td>\n",
       "      <td>283000</td>\n",
       "      <td>Kupė (Coupe)</td>\n",
       "      <td>Kaunas</td>\n",
       "      <td>NaN</td>\n",
       "    </tr>\n",
       "    <tr>\n",
       "      <th>3</th>\n",
       "      <td>13500</td>\n",
       "      <td>Dyzelinas</td>\n",
       "      <td>2.0l.,135kW</td>\n",
       "      <td>Automatinė</td>\n",
       "      <td>175000</td>\n",
       "      <td>Hečbekas</td>\n",
       "      <td>Kaunas</td>\n",
       "      <td>NaN</td>\n",
       "    </tr>\n",
       "    <tr>\n",
       "      <th>4</th>\n",
       "      <td>27500</td>\n",
       "      <td>Dyzelinas</td>\n",
       "      <td>3.0l.,195kW</td>\n",
       "      <td>Automatinė</td>\n",
       "      <td>200000</td>\n",
       "      <td>Hečbekas</td>\n",
       "      <td>Marijampolė</td>\n",
       "      <td>NaN</td>\n",
       "    </tr>\n",
       "  </tbody>\n",
       "</table>\n",
       "</div>"
      ],
      "text/plain": [
       "   kaina ,kuro tipas    ,variklis ,pavaru deze   ,rida  \\\n",
       "0  11700   Dyzelinas  3.0l.,210kW   Automatinė  279580   \n",
       "1  11850    Benzinas  2.0l.,180kW   Automatinė  100254   \n",
       "2  12400   Dyzelinas  3.0l.,195kW   Automatinė  283000   \n",
       "3  13500   Dyzelinas  2.0l.,135kW   Automatinė  175000   \n",
       "4  27500   Dyzelinas  3.0l.,195kW   Automatinė  200000   \n",
       "\n",
       "                    ,tipas     ,vietove  Unnamed: 7  \n",
       "0  Visureigis / Krosoveris      Vilnius         NaN  \n",
       "1  Visureigis / Krosoveris      Vilnius         NaN  \n",
       "2             Kupė (Coupe)       Kaunas         NaN  \n",
       "3                 Hečbekas       Kaunas         NaN  \n",
       "4                 Hečbekas  Marijampolė         NaN  "
      ]
     },
     "execution_count": 176,
     "metadata": {},
     "output_type": "execute_result"
    }
   ],
   "source": [
    "visi1.reset_index()\n",
    "rez.head()"
   ]
  },
  {
   "cell_type": "code",
   "execution_count": 183,
   "metadata": {},
   "outputs": [
    {
     "data": {
      "text/html": [
       "<div>\n",
       "<style scoped>\n",
       "    .dataframe tbody tr th:only-of-type {\n",
       "        vertical-align: middle;\n",
       "    }\n",
       "\n",
       "    .dataframe tbody tr th {\n",
       "        vertical-align: top;\n",
       "    }\n",
       "\n",
       "    .dataframe thead th {\n",
       "        text-align: right;\n",
       "    }\n",
       "</style>\n",
       "<table border=\"1\" class=\"dataframe\">\n",
       "  <thead>\n",
       "    <tr style=\"text-align: right;\">\n",
       "      <th></th>\n",
       "      <th>,kuro tipas</th>\n",
       "      <th>count</th>\n",
       "    </tr>\n",
       "  </thead>\n",
       "  <tbody>\n",
       "    <tr>\n",
       "      <th>0</th>\n",
       "      <td>Dyzelinas</td>\n",
       "      <td>63</td>\n",
       "    </tr>\n",
       "    <tr>\n",
       "      <th>1</th>\n",
       "      <td>Benzinas</td>\n",
       "      <td>23</td>\n",
       "    </tr>\n",
       "    <tr>\n",
       "      <th>2</th>\n",
       "      <td>Benzinas / elektra</td>\n",
       "      <td>5</td>\n",
       "    </tr>\n",
       "    <tr>\n",
       "      <th>3</th>\n",
       "      <td>Benzinas / elektra / dujos</td>\n",
       "      <td>2</td>\n",
       "    </tr>\n",
       "    <tr>\n",
       "      <th>4</th>\n",
       "      <td>Benzinas / dujos</td>\n",
       "      <td>2</td>\n",
       "    </tr>\n",
       "    <tr>\n",
       "      <th>5</th>\n",
       "      <td>Dyzelinas / elektra</td>\n",
       "      <td>1</td>\n",
       "    </tr>\n",
       "    <tr>\n",
       "      <th>6</th>\n",
       "      <td>Elektra, 93 kWh</td>\n",
       "      <td>1</td>\n",
       "    </tr>\n",
       "    <tr>\n",
       "      <th>7</th>\n",
       "      <td>Elektra, 62 kWh</td>\n",
       "      <td>1</td>\n",
       "    </tr>\n",
       "  </tbody>\n",
       "</table>\n",
       "</div>"
      ],
      "text/plain": [
       "                  ,kuro tipas  count\n",
       "0                   Dyzelinas     63\n",
       "1                    Benzinas     23\n",
       "2          Benzinas / elektra      5\n",
       "3  Benzinas / elektra / dujos      2\n",
       "4            Benzinas / dujos      2\n",
       "5         Dyzelinas / elektra      1\n",
       "6             Elektra, 93 kWh      1\n",
       "7             Elektra, 62 kWh      1"
      ]
     },
     "execution_count": 183,
     "metadata": {},
     "output_type": "execute_result"
    }
   ],
   "source": [
    "#advanced: su pie plot atvaizduokite gamintojų užimamą rinkos dalį (5 didžiausi + visi kiti)\n",
    "rezas= rez[',kuro tipas'].value_counts().reset_index()\n",
    "rezas\n",
    "# plt.pie(rezas)\n",
    "# plt.show()"
   ]
  },
  {
   "cell_type": "code",
   "execution_count": 17,
   "metadata": {},
   "outputs": [
    {
     "name": "stdout",
     "output_type": "stream",
     "text": [
      "[-10, -5, 1, 6, 11]\n"
     ]
    }
   ],
   "source": [
    "def teigiami(sar:list):\n",
    "    for i in sar:\n",
    "        if i>0:\n",
    "            return i\n",
    "    \n",
    "sara= [1,-5,6,-10,11]\n",
    "sara.sort()\n",
    "print(sara)"
   ]
  }
 ],
 "metadata": {
  "kernelspec": {
   "display_name": "Python 3",
   "language": "python",
   "name": "python3"
  },
  "language_info": {
   "codemirror_mode": {
    "name": "ipython",
    "version": 3
   },
   "file_extension": ".py",
   "mimetype": "text/x-python",
   "name": "python",
   "nbconvert_exporter": "python",
   "pygments_lexer": "ipython3",
   "version": "3.12.3"
  }
 },
 "nbformat": 4,
 "nbformat_minor": 2
}
